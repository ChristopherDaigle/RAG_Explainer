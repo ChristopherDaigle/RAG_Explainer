{
 "cells": [
  {
   "cell_type": "markdown",
   "metadata": {},
   "source": [
    "# Understanding RAG Systems: A Hands-On Tutorial\n",
    "\n",
    "## Welcome!\n",
    "\n",
    "In this notebook, you'll learn about **Retrieval-Augmented Generation (RAG)** systems by building one from scratch.\n",
    "\n",
    "### What is RAG?\n",
    "\n",
    "RAG is a technique that enhances Large Language Models (LLMs) by providing them with relevant information retrieved from a document collection. Instead of relying solely on the model's training data, RAG allows the model to access specific, up-to-date information to generate more accurate and grounded responses.\n",
    "\n",
    "### Why is RAG Important?\n",
    "\n",
    "- **Reduces hallucinations**: Grounds responses in actual documents\n",
    "- **Enables domain-specific knowledge**: Works with proprietary or specialized information\n",
    "- **Stays current**: No need to retrain models with new information\n",
    "- **Transparency**: You can see which documents informed the response\n",
    "\n",
    "### What You'll Build\n",
    "\n",
    "A complete RAG pipeline including:\n",
    "1. Document ingestion and chunking\n",
    "2. Embedding generation\n",
    "3. Similarity-based retrieval\n",
    "4. Visualization of embedding spaces\n",
    "5. Prompt construction for LLMs\n",
    "\n",
    "**Estimated time**: 60-90 minutes  \n",
    "**Prerequisites**: Basic Python knowledge\n",
    "\n",
    "Let's get started!"
   ]
  },
  {
   "cell_type": "markdown",
   "metadata": {},
   "source": [
    "---\n",
    "## Section 0: Setup & Dependencies\n",
    "\n",
    "Before we begin, we need to install and import the required libraries.\n",
    "\n",
    "### Required Libraries:\n",
    "\n",
    "- **pandas**: Data manipulation and storage in DataFrames\n",
    "- **numpy**: Numerical operations and array handling\n",
    "- **matplotlib**: 2D plotting and visualization\n",
    "- **seaborn**: Statistical visualizations (especially heatmaps)\n",
    "- **plotly**: Interactive 3D visualizations\n",
    "- **sentence-transformers**: Pre-trained embedding models\n",
    "- **umap-learn**: Dimensionality reduction for visualization\n",
    "- **ipywidgets** (optional): Interactive controls and sliders\n",
    "- **tqdm**: Progress bars for long-running operations\n",
    "- **scikit-learn**: Machine learning utilities"
   ]
  },
  {
   "cell_type": "markdown",
   "metadata": {},
   "source": [
    "### Import Libraries and Verify Installation"
   ]
  },
  {
   "cell_type": "code",
   "execution_count": 1,
   "metadata": {},
   "outputs": [],
   "source": [
    "%load_ext autoreload\n",
    "%autoreload 2"
   ]
  },
  {
   "cell_type": "code",
   "execution_count": 2,
   "metadata": {},
   "outputs": [
    {
     "name": "stdout",
     "output_type": "stream",
     "text": [
      "✓ ipywidgets available - interactive controls enabled\n",
      "\n",
      "=== Package Versions ===\n",
      "pandas: 2.3.3\n",
      "numpy: 2.3.4\n",
      "\n",
      "⚠ No GPU detected - using CPU (embeddings will be slower)\n",
      "\n",
      "✓ All imports successful! Ready to proceed.\n"
     ]
    }
   ],
   "source": [
    "# Import all required libraries\n",
    "import pandas as pd\n",
    "import numpy as np\n",
    "import matplotlib.pyplot as plt\n",
    "import seaborn as sns\n",
    "import plotly.graph_objects as go\n",
    "import plotly.express as px\n",
    "from sentence_transformers import SentenceTransformer, util\n",
    "import umap\n",
    "from tqdm.auto import tqdm\n",
    "import warnings\n",
    "import torch\n",
    "import os\n",
    "# Disable parallelism for tokenizers to avoid warnings\n",
    "os.environ[\"TOKENIZERS_PARALLELISM\"] = \"false\"\n",
    "\n",
    "# Optional: ipywidgets for interactive controls\n",
    "try:\n",
    "    from ipywidgets import interact, widgets\n",
    "    WIDGETS_AVAILABLE = True\n",
    "    print(\"✓ ipywidgets available - interactive controls enabled\")\n",
    "except ImportError:\n",
    "    WIDGETS_AVAILABLE = False\n",
    "    print(\"⚠ ipywidgets not available - using simple variables instead\")\n",
    "\n",
    "# Configure display settings\n",
    "warnings.filterwarnings('ignore')\n",
    "pd.set_option('display.max_colwidth', 100)\n",
    "plt.style.use('seaborn-v0_8-darkgrid')\n",
    "\n",
    "# Print versions\n",
    "print(\"\\n=== Package Versions ===\")\n",
    "print(f\"pandas: {pd.__version__}\")\n",
    "print(f\"numpy: {np.__version__}\")\n",
    "\n",
    "# Check for GPU availability\n",
    "if torch.cuda.is_available():\n",
    "    print(f\"\\n✓ GPU available: {torch.cuda.get_device_name(0)}\")\n",
    "    print(\"  Embedding generation will be faster!\")\n",
    "else:\n",
    "    print(\"\\n⚠ No GPU detected - using CPU (embeddings will be slower)\")\n",
    "\n",
    "print(\"\\n✓ All imports successful! Ready to proceed.\")"
   ]
  },
  {
   "cell_type": "markdown",
   "metadata": {},
   "source": [
    "### Expected Runtime Notes\n",
    "\n",
    "**Embedding Generation:**\n",
    "- With GPU: ~30-60 seconds for 100 chunks\n",
    "- With CPU: ~2-5 minutes for 100 chunks\n",
    "\n",
    "**Memory Requirements:**\n",
    "- Minimum: 2GB RAM\n",
    "- Recommended: 4GB+ RAM for smooth UMAP visualization\n",
    "\n",
    "**Troubleshooting:**\n",
    "- If imports fail, restart the kernel and re-run the installation cell\n",
    "- If you get memory errors during UMAP, reduce the number of chunks displayed\n",
    "- For slower computers, consider using the smaller embedding model (all-MiniLM-L6-v2)"
   ]
  },
  {
   "cell_type": "markdown",
   "metadata": {},
   "source": [
    "---\n",
    "## Configuration Section\n",
    "\n",
    "Let's configure the key parameters for our RAG system.\n",
    "\n",
    "### Embedding Model Selection\n",
    "\n",
    "We'll use models from the `sentence-transformers` library. These models convert text into dense vector representations (embeddings) that capture semantic meaning.\n",
    "\n",
    "**Available Models:**\n",
    "\n",
    "1. **all-MiniLM-L6-v2** (Default)\n",
    "   - Dimensions: 384\n",
    "   - Speed: Fast\n",
    "   - Quality: Good for most tasks\n",
    "   - Best for: Learning and experimentation\n",
    "\n",
    "2. **all-mpnet-base-v2** (Higher Quality)\n",
    "   - Dimensions: 768\n",
    "   - Speed: Slower (2-3x)\n",
    "   - Quality: Better semantic understanding\n",
    "   - Best for: Production-quality results\n",
    "\n",
    "Choose your model below:"
   ]
  },
  {
   "cell_type": "code",
   "execution_count": 3,
   "metadata": {},
   "outputs": [
    {
     "name": "stdout",
     "output_type": "stream",
     "text": [
      "Loading model: all-MiniLM-L6-v2...\n",
      "\n",
      "✓ Model loaded successfully!\n",
      "  Embedding dimensions: 384\n",
      "  Max sequence length: 256 tokens\n",
      "\n",
      "💡 Tip: For better quality (but slower speed), try 'all-mpnet-base-v2'\n"
     ]
    }
   ],
   "source": [
    "# MODEL CONFIGURATION\n",
    "# Change this to switch between models\n",
    "MODEL_NAME = \"all-MiniLM-L6-v2\"  # Options: \"all-MiniLM-L6-v2\" or \"all-mpnet-base-v2\"\n",
    "\n",
    "# Load the model\n",
    "print(f\"Loading model: {MODEL_NAME}...\")\n",
    "model = SentenceTransformer(MODEL_NAME)\n",
    "\n",
    "# Display model information\n",
    "embedding_dim = model.get_sentence_embedding_dimension()\n",
    "print(f\"\\n✓ Model loaded successfully!\")\n",
    "print(f\"  Embedding dimensions: {embedding_dim}\")\n",
    "print(f\"  Max sequence length: {model.max_seq_length} tokens\")\n",
    "\n",
    "if MODEL_NAME == \"all-MiniLM-L6-v2\":\n",
    "    print(\"\\n💡 Tip: For better quality (but slower speed), try 'all-mpnet-base-v2'\")\n",
    "else:\n",
    "    print(\"\\n💡 You're using the higher-quality model - embeddings will be more accurate!\")"
   ]
  },
  {
   "cell_type": "markdown",
   "metadata": {},
   "source": [
    "---\n",
    "## Section 1: Document Ingestion\n",
    "\n",
    "In this section, we'll load sample documents from three different domains. This diversity will help you understand how RAG systems work across different types of content.\n",
    "\n",
    "### Available Documents:\n",
    "\n",
    "1. **Economic Context**: Discusses economic theories, market mechanisms, and fiscal policy\n",
    "2. **Literary Context**: Explores literary analysis, movements, and narrative techniques  \n",
    "3. **Philosophy Context**: Examines philosophical arguments, ethics, and epistemology\n",
    "\n",
    "Each document is substantial enough to create approximately 100 chunks, giving us a realistic dataset to work with."
   ]
  },
  {
   "cell_type": "code",
   "execution_count": 4,
   "metadata": {},
   "outputs": [],
   "source": [
    "# Sample Documents - Each approximately 20,000+ characters\n",
    "\n",
    "ECONOMIC_DOC = \"\"\"The study of economics is fundamentally concerned with how societies allocate scarce resources among competing uses. This allocation problem arises because human wants are virtually unlimited, while the resources available to satisfy these wants are finite. Understanding this basic economic problem is essential to grasping more complex economic concepts and phenomena.\n",
    "\n",
    "Microeconomics focuses on the behavior of individual economic agents, such as consumers, firms, and workers. It examines how these agents make decisions about the allocation of resources and how these decisions interact in markets. The concept of supply and demand is central to microeconomic analysis. Supply represents the quantity of a good or service that producers are willing to sell at various prices, while demand represents the quantity that consumers are willing to buy. The intersection of supply and demand curves determines the equilibrium price and quantity in a market.\n",
    "\n",
    "Consumer behavior is analyzed through the lens of utility theory, which posits that consumers seek to maximize their satisfaction or utility subject to their budget constraints. This framework helps explain how consumers make choices among different goods and services. The law of diminishing marginal utility suggests that as consumption of a good increases, the additional satisfaction from consuming one more unit decreases. This principle has important implications for understanding demand curves and consumer choices.\n",
    "\n",
    "On the production side, firms operate to maximize profits by choosing the optimal combination of inputs to produce outputs. Production functions describe the relationship between inputs like labor and capital and the resulting output. Firms face various cost structures, including fixed costs that don't vary with production levels and variable costs that do. Understanding these cost structures is crucial for analyzing firm behavior and market outcomes.\n",
    "\n",
    "Market structures vary significantly, from perfect competition to monopoly, with oligopoly and monopolistic competition in between. In perfectly competitive markets, numerous small firms produce identical products, and no single firm can influence the market price. Monopolies, conversely, feature a single seller with significant market power to set prices. These different market structures lead to different outcomes in terms of prices, quantities, and economic efficiency.\n",
    "\n",
    "Macroeconomics takes a broader view, examining the economy as a whole. It focuses on aggregate variables such as gross domestic product (GDP), unemployment rates, and inflation. GDP measures the total value of all goods and services produced in an economy during a specific period. It serves as a comprehensive scorecard of economic health and is used to compare economic performance across time and between countries.\n",
    "\n",
    "Economic growth, the increase in an economy's productive capacity over time, is a central concern of macroeconomics. Various theories attempt to explain what drives economic growth. Classical growth theory emphasizes capital accumulation and technological progress. The Solow growth model demonstrates that in the long run, per capita income growth depends primarily on technological advancement rather than capital accumulation. Endogenous growth theory goes further, suggesting that technological progress itself results from economic activities and policy choices.\n",
    "\n",
    "Unemployment represents one of the most visible economic problems. Economists distinguish between several types of unemployment: frictional unemployment resulting from the time it takes workers to find new jobs, structural unemployment caused by mismatches between workers' skills and job requirements, and cyclical unemployment that rises and falls with the business cycle. The natural rate of unemployment includes frictional and structural unemployment but not cyclical unemployment.\n",
    "\n",
    "Inflation, the general increase in price levels over time, erodes purchasing power and can create economic uncertainty. Moderate inflation is often seen as normal in a growing economy, but high inflation can be destructive. Deflation, or falling prices, can also be problematic as it may lead consumers and businesses to delay purchases, potentially causing economic slowdowns. Central banks typically target a low, positive inflation rate as part of their monetary policy objectives.\n",
    "\n",
    "Fiscal policy involves government decisions about taxation and spending. Governments can use expansionary fiscal policy, increasing spending or cutting taxes, to stimulate economic activity during recessions. Conversely, contractionary fiscal policy, reducing spending or raising taxes, can help cool an overheating economy. However, fiscal policy faces several challenges, including recognition lags in identifying economic problems, implementation lags in enacting policy changes, and impact lags before policies affect the economy.\n",
    "\n",
    "Monetary policy, conducted by central banks, involves managing the money supply and interest rates to achieve macroeconomic objectives. Central banks can increase the money supply through various mechanisms, including lowering interest rates, which encourages borrowing and spending. The Federal Reserve in the United States uses tools like open market operations, the discount rate, and reserve requirements to implement monetary policy. The effectiveness of monetary policy depends on various factors, including the transmission mechanism through which policy changes affect the real economy.\n",
    "\n",
    "International trade allows countries to specialize in producing goods and services where they have comparative advantages. The theory of comparative advantage, developed by David Ricardo, demonstrates that trade can benefit all participating countries, even if one country is more efficient at producing everything. Trade agreements aim to reduce barriers like tariffs and quotas, facilitating greater international commerce. However, trade can create winners and losers within countries, leading to political debates about trade policy.\n",
    "\n",
    "Exchange rates, the prices at which currencies trade, play a crucial role in international economics. Floating exchange rates are determined by supply and demand in foreign exchange markets, while fixed exchange rates are maintained by government interventions. Exchange rate movements affect international competitiveness, as a stronger currency makes exports more expensive and imports cheaper. Countries sometimes manipulate their exchange rates to gain trade advantages, though such practices are controversial.\n",
    "\n",
    "Financial markets facilitate the flow of funds from savers to borrowers, playing a vital role in economic efficiency. Stock markets allow companies to raise capital by selling ownership shares, while bond markets enable borrowing through debt instruments. Financial intermediaries like banks transform short-term deposits into long-term loans, providing liquidity and risk management services. Financial market efficiency depends on information availability and the absence of distortions.\n",
    "\n",
    "Market failures occur when free markets fail to allocate resources efficiently. Externalities, costs or benefits affecting third parties not involved in transactions, represent one type of market failure. Pollution is a classic negative externality, as producers don't bear the full cost of environmental damage. Public goods, which are non-excludable and non-rivalrous, create another market failure as private markets tend to underproduce them. Government intervention through regulation, taxes, subsidies, or direct provision often aims to correct market failures.\n",
    "\n",
    "Income inequality has emerged as a major economic and social concern. The Gini coefficient measures inequality, with values ranging from zero (perfect equality) to one (complete inequality). Various factors contribute to inequality, including differences in education, skills, inheritance, and luck. Technological change and globalization may have increased inequality by disproportionately benefiting those with higher skills and education. Policies to address inequality include progressive taxation, education investments, and social safety nets.\n",
    "\n",
    "Behavioral economics challenges the traditional assumption of perfectly rational economic agents. Research shows that people often make systematic errors in judgment and decision-making, influenced by psychological biases and heuristics. Loss aversion, the tendency to feel losses more intensely than equivalent gains, affects economic choices. Present bias leads people to overvalue immediate rewards relative to future benefits, explaining phenomena like inadequate retirement savings. Understanding these behavioral patterns can inform policy design, such as using defaults to encourage better savings decisions.\n",
    "\n",
    "Economic development focuses on improving living standards in lower-income countries. Development economics examines factors that promote or hinder economic growth in these contexts. Institutional quality, including property rights, rule of law, and government effectiveness, significantly impacts development outcomes. Access to education, healthcare, and infrastructure also plays crucial roles. Foreign aid, trade policy, and technology transfer are policy tools used to promote development, though their effectiveness remains debated.\n",
    "\n",
    "Environmental economics addresses the interaction between economic activity and environmental quality. Climate change represents a massive negative externality, as greenhouse gas emissions impose costs globally but aren't fully reflected in market prices. Carbon pricing through taxes or cap-and-trade systems aims to internalize these externalities. Sustainable development seeks to meet present needs without compromising future generations' ability to meet their needs, requiring careful balance between economic growth and environmental protection.\"\"\"\n",
    "\n",
    "LITERARY_DOC = \"\"\"Literature, as an art form, encompasses the written works that express ideas, emotions, and stories through carefully crafted language. The study of literature involves analyzing how authors use various literary devices and techniques to create meaning, evoke responses, and explore the human condition. Understanding literature requires attention to both form and content, examining not just what authors say but how they say it.\n",
    "\n",
    "Literary movements represent distinct periods and styles in literary history, each characterized by particular themes, techniques, and philosophical outlooks. Romanticism, which flourished in the late 18th and early 19th centuries, emphasized emotion, imagination, and individual experience. Romantic writers celebrated nature, valued spontaneity over artifice, and often explored the relationship between humanity and the natural world. They rejected the Enlightenment's emphasis on reason alone, instead embracing feeling and intuition as equally valid ways of understanding reality.\n",
    "\n",
    "Realism emerged in the mid-19th century as a reaction against Romanticism's idealization. Realist writers sought to depict life as it actually was, focusing on ordinary people and everyday situations. They employed detailed, objective descriptions and avoided melodrama or sentimentality. Social and economic conditions often featured prominently in realist works, which examined how external circumstances shaped individual lives. Authors like Gustave Flaubert and George Eliot exemplified realist principles in their novels.\n",
    "\n",
    "Modernism, developing in the late 19th and early 20th centuries, represented a radical break with traditional literary forms and conventions. Modernist writers experimented with narrative structure, often fragmenting chronology and employing stream-of-consciousness techniques to represent inner mental states. They questioned traditional values and certainties, reflecting the upheavals of their era including industrialization, urbanization, and world wars. Works by James Joyce, Virginia Woolf, and T.S. Eliot exemplify modernist innovation.\n",
    "\n",
    "Narrative technique encompasses the methods authors use to tell stories. Point of view determines the perspective from which a story is told. First-person narration uses I and provides direct access to one character's thoughts and perceptions, creating intimacy but limiting perspective. Third-person narration uses he or she and can be either limited, focusing on one character's perspective, or omniscient, providing access to multiple characters' thoughts and knowledge beyond any single character's awareness.\n",
    "\n",
    "Characterization involves the methods by which authors create and develop characters. Direct characterization explicitly tells readers about a character's traits, while indirect characterization shows character through actions, dialogue, thoughts, and others' reactions. Complex characters exhibit multiple, sometimes contradictory traits and undergo development throughout the narrative. Flat characters, conversely, embody one or two traits and remain relatively unchanged. The choice between these approaches depends on the character's role in the narrative.\n",
    "\n",
    "Plot structure typically follows a pattern of exposition, rising action, climax, falling action, and resolution. Exposition introduces characters, setting, and initial situation. Rising action builds tension through complications and conflicts. The climax represents the point of highest tension or the turning point. Falling action deals with consequences of the climax, and resolution provides closure. However, many modern and postmodern works deliberately subvert this traditional structure, leaving conflicts unresolved or presenting events in non-chronological order.\n",
    "\n",
    "Setting encompasses both the physical location and temporal period in which events occur. Settings can be realistic or imaginary, detailed or vague, depending on the author's purposes. Setting often does more than provide backdrop; it can influence character behavior, symbolize themes, create mood, or serve as an active force in the narrative. Gothic literature, for instance, uses ominous settings to generate atmosphere and psychological tension.\n",
    "\n",
    "Symbolism involves using objects, characters, or events to represent abstract ideas or concepts beyond their literal meaning. Symbols can be universal, like darkness representing ignorance or evil, or contextual, deriving meaning from their specific use within a work. Authors develop symbols through repetition, positioning, and association. Effective symbolism enriches texts with layers of meaning without being heavy-handed or obvious.\n",
    "\n",
    "Theme represents the underlying meaning or central idea of a literary work. Unlike plot, which concerns what happens, theme addresses what the work means or what it says about the human experience. A single work can explore multiple themes. Common themes include the individual versus society, the loss of innocence, the nature of good and evil, and the search for identity. Themes emerge through the accumulation of details, events, and patterns rather than through direct statement.\n",
    "\n",
    "Imagery uses descriptive language to create sensory experiences for readers. Visual imagery describes what characters see, but effective imagery engages all senses: sound, smell, taste, and touch. Vivid imagery helps readers visualize scenes, understand characters' experiences, and engage emotionally with texts. Patterns of imagery can reinforce themes; for example, repeated references to confinement might underscore themes of imprisonment or restriction.\n",
    "\n",
    "Tone reflects the author's attitude toward the subject matter or audience. Tone can be serious, ironic, humorous, melancholic, or adopt many other qualities. Authors create tone through word choice, sentence structure, and the selection of details. Tone differs from mood, which refers to the emotional atmosphere experienced by readers. The same event described in different tones creates vastly different effects.\n",
    "\n",
    "Irony involves a discrepancy between expectation and reality. Verbal irony occurs when words convey meaning opposite to their literal sense, often overlapping with sarcasm. Situational irony involves events that contradict expectations or seem incongruous. Dramatic irony occurs when readers know something characters don't, creating tension or humor. Irony adds complexity and can create subtle criticism or commentary.\n",
    "\n",
    "Poetry employs concentrated, musical language to create effects and meanings. Poetic devices include metaphor and simile, which create comparisons; personification, which attributes human characteristics to non-human things; and alliteration, which repeats initial consonant sounds. Rhythm and meter create patterns of stressed and unstressed syllables. Rhyme can occur at line ends or internally. Free verse abandons regular meter and rhyme but still employs other poetic devices.\n",
    "\n",
    "Dramatic literature, written for performance, presents special considerations. Dialogue reveals character and advances plot without narrative exposition. Stage directions indicate actions, entrances, exits, and sometimes tone or manner of speech. Dramatic structure often follows a five-act pattern: exposition, rising action, climax, falling action, and denouement. However, modern drama frequently experiments with structure, breaking fourth walls or rejecting traditional narrative progression.\n",
    "\n",
    "Literary criticism encompasses various approaches to analyzing and interpreting literature. Formalist criticism focuses on the text itself, examining how literary devices create meaning and effect. Historical criticism considers works in their historical contexts, exploring how social, political, and cultural factors influence creation and reception. Psychological criticism applies psychological theories to understand characters, authors, or readers.\n",
    "\n",
    "Feminist literary criticism examines how literature represents women, gender roles, and power dynamics. It questions how canonical literature has excluded or marginalized women's voices and experiences. Feminist critics analyze how texts construct femininity and masculinity, often revealing underlying patriarchal assumptions. This approach has expanded literary canons and transformed understanding of many traditional works.\n",
    "\n",
    "Postcolonial criticism addresses literature's relationship to colonialism and imperialism. It examines how colonial powers represented colonized peoples and how postcolonial writers respond to and resist these representations. Postcolonial critics analyze themes of identity, hybridity, and cultural conflict. They explore how colonized peoples have used literature to assert their voices, reclaim histories, and challenge dominant narratives.\n",
    "\n",
    "Intertextuality refers to connections between texts, how works reference, echo, or respond to other works. These connections can be explicit, through direct quotation or allusion, or implicit, through shared themes, structures, or styles. Understanding intertextuality enriches interpretation by revealing how texts participate in ongoing literary conversations. T.S. Eliot's poetry, densely packed with allusions, exemplifies conscious intertextuality.\n",
    "\n",
    "Genre classification groups works by shared characteristics, conventions, and expectations. Major genres include fiction, poetry, and drama, each with numerous subgenres. Genre conventions guide both creation and reception, establishing frameworks readers use to understand works. However, many significant works transcend or deliberately violate genre boundaries, creating hybrid forms or challenging readers' expectations.\n",
    "\n",
    "The canon, the body of works considered most significant or worthy of study, has been continuously debated and revised. Traditional canons often privileged works by white male authors from Western Europe and North America. Recent decades have seen expansion to include works by women, people of color, non-Western authors, and representatives of previously marginalized groups. These changes reflect evolving understanding of literature's purposes and values.\"\"\"\n",
    "\n",
    "PHILOSOPHY_DOC = \"\"\"Philosophy, derived from the Greek words for love and wisdom, represents humanity's systematic attempt to understand fundamental questions about existence, knowledge, values, reason, mind, and language. Unlike sciences that investigate specific aspects of reality, philosophy examines the foundations and assumptions underlying all inquiries. Philosophical thinking involves rigorous analysis, logical argumentation, and critical examination of beliefs and concepts often taken for granted.\n",
    "\n",
    "Metaphysics addresses the nature of reality itself, asking what exists and what characteristics fundamental reality possesses. One central metaphysical question concerns the relationship between mind and matter. Dualism, associated with René Descartes, posits that mind and matter are fundamentally different substances. Materialism, conversely, holds that only physical matter exists, with mental states being either identical to or emerging from physical brain states. Idealism takes the opposite position, arguing that reality is fundamentally mental or spiritual.\n",
    "\n",
    "The problem of universals represents another key metaphysical debate. Realists about universals argue that abstract properties like redness or justice exist independently of particular instances. Nominalists deny the independent existence of universals, claiming that only particular objects exist and that universal terms are merely convenient labels. Conceptualists occupy middle ground, arguing that universals exist but only as mental concepts rather than independent entities.\n",
    "\n",
    "Epistemology investigates the nature, sources, and limits of knowledge. What constitutes knowledge, how do we acquire it, and what can we know with certainty? The traditional analysis defines knowledge as justified true belief, though Edmund Gettier's famous counterexamples challenged this definition. Epistemologists debate whether knowledge requires absolute certainty or whether probabilistic justification suffices. They also examine different potential sources of knowledge: sense experience, reason, memory, testimony, and intuition.\n",
    "\n",
    "Rationalism and empiricism represent two major epistemological traditions. Rationalists, including Descartes, Spinoza, and Leibniz, emphasize reason as the primary source of knowledge, arguing that certain truths can be known through pure thought without sensory experience. Empiricists, including Locke, Berkeley, and Hume, contend that all knowledge ultimately derives from sensory experience. Immanuel Kant attempted to synthesize these approaches, arguing that while knowledge begins with experience, the mind actively structures this experience through innate categories.\n",
    "\n",
    "Skepticism challenges claims to knowledge, questioning whether we can know anything with certainty. Ancient skeptics developed various arguments showing that our beliefs might be mistaken. Descartes' method of systematic doubt represents an attempt to find indubitable foundations for knowledge. He concluded that while a malicious demon might deceive him about almost everything, the very fact that he thinks proves his existence: I think, therefore I am. This cogito became his foundation for rebuilding knowledge claims.\n",
    "\n",
    "Ethics or moral philosophy examines questions about right and wrong, good and bad, virtue and vice. What makes actions right or wrong? What constitutes a good life? What moral obligations do we have? Different ethical theories provide different answers to these questions. Consequentialism judges actions by their outcomes, with utilitarianism being the most influential consequentialist theory. Utilitarians argue that actions are right insofar as they promote happiness or well-being and wrong insofar as they produce suffering.\n",
    "\n",
    "Deontological ethics, associated particularly with Kant, holds that the rightness of actions depends on conformity to moral rules or duties rather than consequences. Kant argued that moral worth derives from acting from duty rather than inclination and that moral rules must be universalizable. His categorical imperative states that we should act only according to maxims we could will to become universal laws. This approach emphasizes moral absolutes and the intrinsic dignity of rational beings.\n",
    "\n",
    "Virtue ethics, with roots in Aristotle, focuses on character rather than rules or consequences. Virtue ethicists ask not What should I do? but What kind of person should I be? Virtues are character traits that enable human flourishing, such as courage, temperance, justice, and wisdom. Aristotle argued that virtue lies in finding the mean between extremes; courage, for instance, lies between cowardice and recklessness. Developing virtues requires practice and habituation.\n",
    "\n",
    "Political philosophy examines questions about government, justice, rights, and political obligation. What justifies governmental authority? What constitutes a just society? What rights do individuals possess? Social contract theorists, including Hobbes, Locke, and Rousseau, argued that political authority derives from agreements among individuals to leave the state of nature and form civil society. They differed significantly, however, in their conceptions of the state of nature and the resulting governmental forms.\n",
    "\n",
    "John Rawls' theory of justice represents a major 20th-century contribution to political philosophy. Rawls argued that just principles are those rational individuals would choose behind a veil of ignorance, not knowing their position in society. He claimed this would lead to two principles: equal basic liberties for all and social and economic inequalities arranged to benefit the least advantaged. Rawls' work revived systematic theorizing about justice and generated extensive debate and criticism.\n",
    "\n",
    "Libertarianism emphasizes individual liberty and minimal government intervention. Libertarians argue that individuals have rights to life, liberty, and property that governments must respect. They oppose most forms of wealth redistribution as violations of property rights, even for apparently worthy purposes. Robert Nozick defended libertarianism against Rawls, arguing that historical entitlement rather than patterned distribution determines justice.\n",
    "\n",
    "Logic studies principles of valid reasoning and argumentation. Deductive logic examines arguments where conclusions necessarily follow from premises. A valid deductive argument guarantees that if premises are true, the conclusion must be true. Inductive logic, conversely, deals with arguments where premises make conclusions probable rather than certain. Scientific reasoning typically employs induction, inferring general principles from particular observations.\n",
    "\n",
    "Formal logic uses symbolic notation to represent argument structures precisely. Propositional logic deals with relationships between whole propositions using logical operators like and, or, not, and if-then. Predicate logic extends this by analyzing internal structure of propositions, including quantifiers like all and some. Understanding formal logic helps identify fallacies and construct sound arguments.\n",
    "\n",
    "Philosophy of mind examines the nature of mental states and their relationship to physical states. The mind-body problem asks how mental experiences relate to brain processes. Identity theory claims mental states are identical to brain states. Functionalism defines mental states by their functional roles rather than physical composition, allowing that different physical systems might realize the same mental states. This view has influenced artificial intelligence research.\n",
    "\n",
    "The problem of consciousness, or the hard problem, asks why physical processes give rise to subjective experiences. Why does seeing red feel like something rather than just being information processing? Some philosophers argue consciousness cannot be reduced to physical processes, while others believe it can be explained scientifically. The philosophical zombie thought experiment imagines beings physically identical to humans but lacking consciousness, raising questions about consciousness's nature.\n",
    "\n",
    "Free will versus determinism represents a longstanding philosophical debate. Determinism holds that all events, including human actions, are caused by prior events according to natural laws. If determinism is true, could we be morally responsible for our actions? Compatibilists argue that free will is compatible with determinism, defining freedom as acting according to one's desires without external constraints. Libertarians about free will argue that genuine freedom requires indeterminism.\n",
    "\n",
    "Philosophy of language investigates meaning, reference, and language's relationship to reality. How do words refer to objects? What makes statements true or false? The descriptivist theory holds that names abbreviate descriptions; Aristotle might mean the teacher of Alexander the Great. Saul Kripke challenged this, arguing that names are rigid designators, referring to the same individual across all possible worlds, not through descriptions.\n",
    "\n",
    "The theory of speech acts recognizes that language does more than describe reality; it also performs actions. Saying I promise doesn't just describe a promise; it makes one. J.L. Austin distinguished locutionary acts, illocutionary acts, and perlocutionary acts. This framework illuminates how language functions in social contexts.\n",
    "\n",
    "Existentialism emphasizes individual existence, freedom, and choice. Existentialists argue that existence precedes essence; humans first exist and then define themselves through choices. Jean-Paul Sartre claimed we are condemned to be free, bearing responsibility for creating meaning in an absurd universe. Existentialists rejected systematic philosophies, emphasizing instead authentic engagement with life's fundamental challenges and anxieties.\n",
    "\n",
    "Phenomenology, founded by Edmund Husserl, studies structures of consciousness and experience. Phenomenologists bracket assumptions about external reality to examine how things appear to consciousness. They investigate intentionality, consciousness's directedness toward objects, and explore how we constitute meaning through experience. Martin Heidegger extended phenomenology to examine being itself, particularly human existence or Dasein.\n",
    "\n",
    "Philosophy of science examines scientific methodology, reasoning, and knowledge claims. What distinguishes science from non-science? Karl Popper argued that scientific theories must be falsifiable; genuine scientific claims make predictions that could be proven wrong. Thomas Kuhn challenged the view of science as purely cumulative, arguing that scientific progress occurs through paradigm shifts, revolutionary changes in fundamental frameworks rather than gradual accumulation of knowledge.\"\"\""
   ]
  },
  {
   "cell_type": "code",
   "execution_count": 5,
   "metadata": {},
   "outputs": [
    {
     "name": "stdout",
     "output_type": "stream",
     "text": [
      "Available Documents:\n",
      "==================================================\n",
      "1. Economic Context\n",
      "   - Words: 1,340\n",
      "   - Characters: 9,889\n",
      "\n",
      "2. Literary Context\n",
      "   - Words: 1,330\n",
      "   - Characters: 10,077\n",
      "\n",
      "3. Philosophy Context\n",
      "   - Words: 1,422\n",
      "   - Characters: 10,707\n",
      "\n",
      "\n",
      "✓ Selected: Economic Context\n",
      "\n",
      "First 500 characters:\n",
      "==================================================\n",
      "The study of economics is fundamentally concerned with how societies allocate scarce resources among competing uses. This allocation problem arises because human wants are virtually unlimited, while the resources available to satisfy these wants are finite. Understanding this basic economic problem is essential to grasping more complex economic concepts and phenomena.\n",
      "\n",
      "Microeconomics focuses on the behavior of individual economic agents, such as consumers, firms, and workers. It examines how the...\n",
      "==================================================\n"
     ]
    }
   ],
   "source": [
    "# Store all documents in a dictionary\n",
    "DOCUMENTS = {\n",
    "    \"Economic Context\": ECONOMIC_DOC,\n",
    "    \"Literary Context\": LITERARY_DOC,\n",
    "    \"Philosophy Context\": PHILOSOPHY_DOC\n",
    "}\n",
    "\n",
    "# Document selection\n",
    "print(\"Available Documents:\")\n",
    "print(\"=\"*50)\n",
    "for i, (name, doc) in enumerate(DOCUMENTS.items(), 1):\n",
    "    word_count = len(doc.split())\n",
    "    char_count = len(doc)\n",
    "    print(f\"{i}. {name}\")\n",
    "    print(f\"   - Words: {word_count:,}\")\n",
    "    print(f\"   - Characters: {char_count:,}\")\n",
    "    print()\n",
    "\n",
    "# SELECT YOUR DOCUMENT HERE\n",
    "SELECTED_DOCUMENT = \"Economic Context\"  # Change this to \"Literary Context\" or \"Philosophy Context\"\n",
    "\n",
    "# Load selected document\n",
    "document = DOCUMENTS[SELECTED_DOCUMENT]\n",
    "\n",
    "print(f\"\\n✓ Selected: {SELECTED_DOCUMENT}\")\n",
    "print(f\"\\nFirst 500 characters:\")\n",
    "print(\"=\"*50)\n",
    "print(document[:500] + \"...\")\n",
    "print(\"=\"*50)"
   ]
  },
  {
   "cell_type": "markdown",
   "metadata": {},
   "source": [
    "---\n",
    "## Section 2: Document Chunking\n",
    "\n",
    "### Why Do We Need Chunking?\n",
    "\n",
    "Large documents need to be broken into smaller pieces (chunks) for several reasons:\n",
    "\n",
    "1. **Context Window Limits**: Embedding models have maximum token limits (typically 256-512 tokens)\n",
    "2. **Semantic Coherence**: Smaller chunks focus on specific topics, improving retrieval precision\n",
    "3. **Retrieval Granularity**: We want to retrieve relevant sections, not entire documents\n",
    "4. **Processing Efficiency**: Smaller chunks are faster to process and compare\n",
    "\n",
    "### Mathematical Note: Token Limits and Overlap\n",
    "\n",
    "**Token vs Character Count**: \n",
    "- Tokens are units the model processes (roughly 0.75 words or 4 characters in English)\n",
    "- A 512-token limit ≈ 2000 characters or ~400 words\n",
    "\n",
    "**Overlap Rationale**:\n",
    "- Overlap ensures context isn't lost at chunk boundaries\n",
    "- Typical overlap: 10-20% of chunk size\n",
    "- Trade-off: More overlap = better context but more redundancy\n",
    "\n",
    "Let's implement chunking:"
   ]
  },
  {
   "cell_type": "code",
   "execution_count": 7,
   "metadata": {},
   "outputs": [
    {
     "name": "stdout",
     "output_type": "stream",
     "text": [
      "Chunking Results:\n",
      "==================================================\n",
      "Total chunks created: 22\n",
      "Average chunk length: 497.2 characters\n",
      "Min chunk length: 439 characters\n",
      "Max chunk length: 500 characters\n",
      "\n",
      "Overlap percentage: 10.0%\n",
      "\n",
      "\n",
      "First 5 Chunks:\n",
      "==================================================\n",
      "\n",
      "Chunk 0:\n",
      "The study of economics is fundamentally concerned with how societies allocate scarce resources among competing uses. This allocation problem arises because human wants are virtually unlimited, while the resources available to satisfy these wants are finite. Understanding this basic economic problem is essential to grasping more complex economic concepts and phenomena.\n",
      "\n",
      "Microeconomics focuses on the behavior of individual economic agents, such as consumers, firms, and workers. It examines how the\n",
      "\n",
      "Length: 500 characters\n",
      "\t==========\n",
      "\n",
      "Chunk 1:\n",
      "consumers, firms, and workers. It examines how these agents make decisions about the allocation of resources and how these decisions interact in markets. The concept of supply and demand is central to microeconomic analysis. Supply represents the quantity of a good or service that producers are willing to sell at various prices, while demand represents the quantity that consumers are willing to buy. The intersection of supply and demand curves determines the equilibrium price and quantity in a m\n",
      "\n",
      "Length: 500 characters\n",
      "\t==========\n",
      "\n",
      "Chunk 2:\n",
      "termines the equilibrium price and quantity in a market.\n",
      "\n",
      "Consumer behavior is analyzed through the lens of utility theory, which posits that consumer...\n",
      "\n",
      "Length: 500 characters\n",
      "\t==========\n",
      "\n",
      "Chunk 3:\n",
      " consuming one more unit decreases. This principle has important implications for understanding demand curves and consumer choices.\n",
      "\n",
      "On the production...\n",
      "\n",
      "Length: 500 characters\n",
      "\t==========\n",
      "\n",
      "Chunk 4:\n",
      "duction levels and variable costs that do. Understanding these cost structures is crucial for analyzing firm behavior and market outcomes.\n",
      "\n",
      "Market str...\n",
      "\n",
      "Length: 500 characters\n",
      "\t==========\n"
     ]
    }
   ],
   "source": [
    "def chunk_document(document, chunk_size=500, overlap=50):\n",
    "    \"\"\"\n",
    "    Split document into overlapping chunks.\n",
    "    \n",
    "    Args:\n",
    "        document: Full text as string\n",
    "        chunk_size: Number of characters per chunk\n",
    "        overlap: Number of characters to overlap between chunks\n",
    "    \n",
    "    Returns:\n",
    "        List of text chunks\n",
    "    \"\"\"\n",
    "    chunks = []\n",
    "    start = 0\n",
    "    \n",
    "    while start < len(document):\n",
    "        end = start + chunk_size\n",
    "        chunk = document[start:end]\n",
    "        chunks.append(chunk)\n",
    "        start = end - overlap\n",
    "    \n",
    "    return chunks\n",
    "\n",
    "# CHUNKING PARAMETERS - Modify these to experiment\n",
    "CHUNK_SIZE = 500  # characters per chunk\n",
    "OVERLAP = 50     # characters of overlap\n",
    "\n",
    "# Create chunks\n",
    "chunks = chunk_document(document, chunk_size=CHUNK_SIZE, overlap=OVERLAP)\n",
    "\n",
    "# Display statistics\n",
    "print(f\"Chunking Results:\")\n",
    "print(f\"=\"*50)\n",
    "print(f\"Total chunks created: {len(chunks)}\")\n",
    "print(f\"Average chunk length: {np.mean([len(c) for c in chunks]):.1f} characters\")\n",
    "print(f\"Min chunk length: {min(len(c) for c in chunks)} characters\")\n",
    "print(f\"Max chunk length: {max(len(c) for c in chunks)} characters\")\n",
    "print(f\"\\nOverlap percentage: {(OVERLAP/CHUNK_SIZE)*100:.1f}%\")\n",
    "\n",
    "# Display first few chunks\n",
    "print(f\"\\n\\nFirst 5 Chunks:\")\n",
    "print(\"=\"*50)\n",
    "for i, chunk in enumerate(chunks[:5]):\n",
    "    print(f\"\\nChunk {i}:\")\n",
    "    if i<2:\n",
    "        print(f\"{chunk}\")\n",
    "    if i>1:\n",
    "        print(f\"{chunk[:150]}...\")\n",
    "    print(f\"\\nLength: {len(chunk)} characters\")\n",
    "    print(\"\\t==========\")"
   ]
  },
  {
   "cell_type": "markdown",
   "metadata": {},
   "source": [
    "### Interactive Chunking Experiment\n",
    "\n",
    "Increasing overlap means a chunk will have more of the surrounding chunks (preceding or succeeding) represented in it\n",
    "> * Positive relationship between chunk-overlap and number of chunks to represent a text\n",
    "\n",
    "Decreasing chunk size will mean it will take more chunks to represent the whole text\n",
    ">* Inverse relationship of chunk size and number of chunks to represent a text\n",
    "\n",
    "Try different chunk sizes to see how they affect the number and quality of chunks:"
   ]
  },
  {
   "cell_type": "code",
   "execution_count": 8,
   "metadata": {},
   "outputs": [
    {
     "data": {
      "application/vnd.jupyter.widget-view+json": {
       "model_id": "45fbc461e4bc4db18cba17599528cc1a",
       "version_major": 2,
       "version_minor": 0
      },
      "text/plain": [
       "interactive(children=(IntSlider(value=500, description='chunk_size', max=1000, min=200, step=50), IntSlider(va…"
      ]
     },
     "metadata": {},
     "output_type": "display_data"
    }
   ],
   "source": [
    "# OPTION 1: Interactive with ipywidgets (if available)\n",
    "if WIDGETS_AVAILABLE:\n",
    "    def interactive_chunking(chunk_size, overlap):\n",
    "        test_chunks = chunk_document(document, chunk_size=chunk_size, overlap=overlap)\n",
    "        print(f\"Chunk size: {chunk_size} | Overlap: {overlap}\")\n",
    "        print(f\"Number of chunks: {len(test_chunks)}\")\n",
    "        print(f\"Average length: {np.mean([len(c) for c in test_chunks]):.1f} chars\")\n",
    "        print(f\"\\nSample chunk:\\n{test_chunks[0][:200]}...\")\n",
    "    \n",
    "    interact(interactive_chunking, \n",
    "             chunk_size=widgets.IntSlider(min=200, max=1000, step=50, value=500),\n",
    "             overlap=widgets.IntSlider(min=0, max=200, step=25, value=50))\n",
    "else:\n",
    "    # OPTION 2: Simple variable version\n",
    "    print(\"💡 Tip: Try modifying CHUNK_SIZE and OVERLAP above and re-run the chunking cell\")\n",
    "    print(\"\\nRecommended experiments:\")\n",
    "    print(\"  - CHUNK_SIZE=200, OVERLAP=20  (many small chunks)\")\n",
    "    print(\"  - CHUNK_SIZE=1000, OVERLAP=100 (fewer large chunks)\")\n",
    "    print(\"  - CHUNK_SIZE=500, OVERLAP=0   (no overlap)\")"
   ]
  },
  {
   "cell_type": "markdown",
   "metadata": {},
   "source": [
    "Instead of this approach, there exist many others, like [LangChain's Token Splitter](https://python.langchain.com/docs/how_to/split_by_token/).\n",
    "\n",
    "Here is also a [general reference to different chunking strategies and considerations of them](https://github.com/FullStackRetrieval-com/RetrievalTutorials/blob/main/tutorials/LevelsOfTextSplitting/5_Levels_Of_Text_Splitting.ipynb)."
   ]
  },
  {
   "cell_type": "markdown",
   "metadata": {},
   "source": [
    "---\n",
    "## Section 3: Chunk Embedding\n",
    "\n",
    "### What Are Embeddings?\n",
    "\n",
    "Embeddings are dense vector representations of text that capture semantic meaning. Instead of treating words as discrete symbols, embeddings place them in a continuous high-dimensional space where semantically similar texts are close together.\n",
    "\n",
    "**Key Properties:**\n",
    "- Each chunk becomes a vector of numbers (e.g., 384 or 768 dimensions)\n",
    "- Similar chunks have similar vectors (measured by cosine similarity)\n",
    "- Each dimension captures some aspect of meaning\n",
    "\n",
    "### Mathematical Note: Vector Representations\n",
    "\n",
    "An embedding is a vector in ℝⁿ where n is the embedding dimension:\n",
    "\n",
    "**embedding** = [e₁, e₂, e₃, ..., eₙ]\n",
    "\n",
    "For our models:\n",
    "- `all-MiniLM-L6-v2`: n = 384\n",
    "- `all-mpnet-base-v2`: n = 768\n",
    "\n",
    "Each dimension doesn't correspond to a single concept but rather encodes complex patterns learned during training."
   ]
  },
  {
   "cell_type": "code",
   "execution_count": 9,
   "metadata": {},
   "outputs": [
    {
     "name": "stdout",
     "output_type": "stream",
     "text": [
      "Generating embeddings for 22 chunks...\n",
      "Model: all-MiniLM-L6-v2 (384 dimensions)\n",
      "\n",
      "This may take a minute...\n",
      "\n"
     ]
    },
    {
     "data": {
      "application/vnd.jupyter.widget-view+json": {
       "model_id": "afcba182de9f4af48c7b3c420a3a4559",
       "version_major": 2,
       "version_minor": 0
      },
      "text/plain": [
       "Batches:   0%|          | 0/1 [00:00<?, ?it/s]"
      ]
     },
     "metadata": {},
     "output_type": "display_data"
    },
    {
     "name": "stdout",
     "output_type": "stream",
     "text": [
      "\n",
      "✓ Embeddings generated!\n",
      "  Shape: (22, 384)\n",
      "  22 chunks × 384 dimensions\n",
      "  Memory: ~0.03 MB\n"
     ]
    }
   ],
   "source": [
    "# Generate embeddings for all chunks\n",
    "print(f\"Generating embeddings for {len(chunks)} chunks...\")\n",
    "print(f\"Model: {MODEL_NAME} ({embedding_dim} dimensions)\")\n",
    "print(\"\\nThis may take a minute...\\n\")\n",
    "\n",
    "# Generate embeddings with progress bar\n",
    "embeddings = model.encode(chunks, show_progress_bar=True, convert_to_numpy=True)\n",
    "\n",
    "print(f\"\\n✓ Embeddings generated!\")\n",
    "print(f\"  Shape: {embeddings.shape}\")\n",
    "print(f\"  {embeddings.shape[0]} chunks × {embeddings.shape[1]} dimensions\")\n",
    "print(f\"  Memory: ~{embeddings.nbytes / 1024 / 1024:.2f} MB\")"
   ]
  },
  {
   "cell_type": "markdown",
   "metadata": {},
   "source": [
    "### Visualizing a Single Embedding\n",
    "\n",
    "Let's examine what an embedding actually looks like:"
   ]
  },
  {
   "cell_type": "code",
   "execution_count": 10,
   "metadata": {},
   "outputs": [
    {
     "name": "stdout",
     "output_type": "stream",
     "text": [
      "First Chunk Text:\n",
      "==================================================\n",
      "The study of economics is fundamentally concerned with how societies allocate scarce resources among competing uses. This allocation problem arises because human wants are virtually unlimited, while t...\n",
      "\n",
      "==================================================\n",
      "\n",
      "Its Embedding (first 20 dimensions):\n",
      "[ 0.01490544 -0.0129721  -0.08410001 -0.00132838  0.01543948 -0.00770503\n",
      "  0.05362706  0.01317069  0.04053107  0.03596986  0.02156082 -0.00412587\n",
      " -0.00234     0.03920461 -0.03509694 -0.08405173 -0.00664451 -0.01841283\n",
      " -0.01715701 -0.01314132]\n",
      "\n",
      "Full embedding shape: (384,)\n",
      "Value range: [-0.129, 0.146]\n",
      "Mean: -0.001\n",
      "Std dev: 0.051\n"
     ]
    },
    {
     "data": {
      "image/png": "[encoded data removed]",
      "text/plain": [
       "<Figure size 1400x400 with 3 Axes>"
      ]
     },
     "metadata": {},
     "output_type": "display_data"
    },
    {
     "name": "stdout",
     "output_type": "stream",
     "text": [
      "\n",
      "💡 Each dimension captures different semantic aspects of the text.\n",
      "   Similar chunks will have similar patterns across these dimensions.\n"
     ]
    }
   ],
   "source": [
    "# Display first chunk's embedding\n",
    "sample_embedding = embeddings[0]\n",
    "\n",
    "print(\"First Chunk Text:\")\n",
    "print(\"=\"*50)\n",
    "print(chunks[0][:200] + \"...\")\n",
    "print(\"\\n\" + \"=\"*50)\n",
    "\n",
    "print(f\"\\nIts Embedding (first 20 dimensions):\")\n",
    "print(sample_embedding[:20])\n",
    "\n",
    "print(f\"\\nFull embedding shape: {sample_embedding.shape}\")\n",
    "print(f\"Value range: [{sample_embedding.min():.3f}, {sample_embedding.max():.3f}]\")\n",
    "print(f\"Mean: {sample_embedding.mean():.3f}\")\n",
    "print(f\"Std dev: {sample_embedding.std():.3f}\")\n",
    "\n",
    "# Visualize the embedding\n",
    "fig, (ax1, ax2) = plt.subplots(1, 2, figsize=(14, 4))\n",
    "\n",
    "# Bar chart of first 50 dimensions\n",
    "ax1.bar(range(50), sample_embedding[:50], color='steelblue', alpha=0.7)\n",
    "ax1.set_xlabel('Dimension Index')\n",
    "ax1.set_ylabel('Value')\n",
    "ax1.set_title(f'First 50 Dimensions of Embedding')\n",
    "ax1.grid(alpha=0.3)\n",
    "\n",
    "# Heatmap of all dimensions\n",
    "im = ax2.imshow(sample_embedding.reshape(-1, 1).T, cmap='RdBu_r', aspect='auto')\n",
    "ax2.set_xlabel('Dimension Index')\n",
    "ax2.set_yticks([])\n",
    "ax2.set_title(f'All {len(sample_embedding)} Dimensions (Heatmap)')\n",
    "plt.colorbar(im, ax=ax2)\n",
    "\n",
    "plt.tight_layout()\n",
    "plt.show()\n",
    "\n",
    "print(\"\\n💡 Each dimension captures different semantic aspects of the text.\")\n",
    "print(\"   Similar chunks will have similar patterns across these dimensions.\")"
   ]
  },
  {
   "cell_type": "markdown",
   "metadata": {},
   "source": [
    "There are many different kinds of embeddings. Dimmensionality is a key concern.\n",
    "\n",
    "See [this from OpenAI about their embedding models and how the dimensionality may play a part in performance](https://openai.com/index/new-embedding-models-and-api-updates/#:~:text=Both%20of%20our,size%20of%201536.)\n",
    "\n",
    "See [here a reference to the concept of Matroyshka Embeddings](https://huggingface.co/blog/matryoshka)"
   ]
  },
  {
   "cell_type": "markdown",
   "metadata": {},
   "source": [
    "---\n",
    "## Section 4: Chunk Storage\n",
    "\n",
    "Now we'll store our chunks and their embeddings in a Pandas DataFrame. This structure makes it easy to apply retrieval operations later.\n",
    "\n",
    "### DataFrame Structure\n",
    "\n",
    "We'll create a DataFrame with three columns:\n",
    "- **chunk_id**: Integer index for each chunk\n",
    "- **text**: The original chunk text\n",
    "- **embedding**: The embedding vector as a numpy array\n",
    "\n",
    "### Why Store Text?\n",
    "\n",
    "Storing the original text alongside embeddings enables:\n",
    "- **Short-to-long retrieval**: Retrieve a chunk, then expand to surrounding context\n",
    "- **Metadata enrichment**: Add information to chunks (source, author, date, etc.)\n",
    "- **Context preservation**: See what was actually embedded\n",
    "\n",
    "### Technical Note: Storage Design\n",
    "\n",
    "Storing embeddings in a single column enables efficient retrieval:\n",
    "```python\n",
    "df['embedding'].apply(lambda x: util.cos_sim(query_embedding, x))\n",
    "```\n",
    "\n",
    "This avoids:\n",
    "- Memory overhead from multi-column approaches\n",
    "- Computational complexity of combining columns\n",
    "- Need for complex indexing structures"
   ]
  },
  {
   "cell_type": "code",
   "execution_count": 11,
   "metadata": {},
   "outputs": [
    {
     "name": "stdout",
     "output_type": "stream",
     "text": [
      "DataFrame Created:\n",
      "==================================================\n",
      "Shape: (22, 3)\n",
      "Columns: ['chunk_id', 'text', 'embedding']\n",
      "\n",
      "Memory usage:\n",
      "Index          132\n",
      "chunk_id       176\n",
      "text         12193\n",
      "embedding     2640\n",
      "dtype: int64\n",
      "\n",
      "\n",
      "First 5 rows:\n",
      "==================================================\n"
     ]
    },
    {
     "data": {
      "text/html": [
       "<div>\n",
       "<style scoped>\n",
       "    .dataframe tbody tr th:only-of-type {\n",
       "        vertical-align: middle;\n",
       "    }\n",
       "\n",
       "    .dataframe tbody tr th {\n",
       "        vertical-align: top;\n",
       "    }\n",
       "\n",
       "    .dataframe thead th {\n",
       "        text-align: right;\n",
       "    }\n",
       "</style>\n",
       "<table border=\"1\" class=\"dataframe\">\n",
       "  <thead>\n",
       "    <tr style=\"text-align: right;\">\n",
       "      <th></th>\n",
       "      <th>chunk_id</th>\n",
       "      <th>text</th>\n",
       "      <th>embedding</th>\n",
       "    </tr>\n",
       "  </thead>\n",
       "  <tbody>\n",
       "    <tr>\n",
       "      <th>0</th>\n",
       "      <td>0</td>\n",
       "      <td>The study of economics is fundamentally concerned with how societies allocate scarce resources a...</td>\n",
       "      <td>array((384,))</td>\n",
       "    </tr>\n",
       "    <tr>\n",
       "      <th>1</th>\n",
       "      <td>1</td>\n",
       "      <td>consumers, firms, and workers. It examines how these agents make decisions about the allocation ...</td>\n",
       "      <td>array((384,))</td>\n",
       "    </tr>\n",
       "    <tr>\n",
       "      <th>2</th>\n",
       "      <td>2</td>\n",
       "      <td>termines the equilibrium price and quantity in a market.\\n\\nConsumer behavior is analyzed throug...</td>\n",
       "      <td>array((384,))</td>\n",
       "    </tr>\n",
       "    <tr>\n",
       "      <th>3</th>\n",
       "      <td>3</td>\n",
       "      <td>consuming one more unit decreases. This principle has important implications for understanding ...</td>\n",
       "      <td>array((384,))</td>\n",
       "    </tr>\n",
       "    <tr>\n",
       "      <th>4</th>\n",
       "      <td>4</td>\n",
       "      <td>duction levels and variable costs that do. Understanding these cost structures is crucial for an...</td>\n",
       "      <td>array((384,))</td>\n",
       "    </tr>\n",
       "  </tbody>\n",
       "</table>\n",
       "</div>"
      ],
      "text/plain": [
       "   chunk_id  \\\n",
       "0         0   \n",
       "1         1   \n",
       "2         2   \n",
       "3         3   \n",
       "4         4   \n",
       "\n",
       "                                                                                                  text  \\\n",
       "0  The study of economics is fundamentally concerned with how societies allocate scarce resources a...   \n",
       "1  consumers, firms, and workers. It examines how these agents make decisions about the allocation ...   \n",
       "2  termines the equilibrium price and quantity in a market.\\n\\nConsumer behavior is analyzed throug...   \n",
       "3   consuming one more unit decreases. This principle has important implications for understanding ...   \n",
       "4  duction levels and variable costs that do. Understanding these cost structures is crucial for an...   \n",
       "\n",
       "       embedding  \n",
       "0  array((384,))  \n",
       "1  array((384,))  \n",
       "2  array((384,))  \n",
       "3  array((384,))  \n",
       "4  array((384,))  "
      ]
     },
     "metadata": {},
     "output_type": "display_data"
    }
   ],
   "source": [
    "# Create DataFrame with chunks and embeddings\n",
    "df = pd.DataFrame({\n",
    "    'chunk_id': range(len(chunks)),\n",
    "    'text': chunks,\n",
    "    'embedding': list(embeddings)\n",
    "})\n",
    "\n",
    "print(\"DataFrame Created:\")\n",
    "print(\"=\"*50)\n",
    "print(f\"Shape: {df.shape}\")\n",
    "print(f\"Columns: {list(df.columns)}\")\n",
    "print(f\"\\nMemory usage:\")\n",
    "print(df.memory_usage(deep=True))\n",
    "\n",
    "# Display first few rows\n",
    "print(\"\\n\\nFirst 5 rows:\")\n",
    "print(\"=\"*50)\n",
    "display_df = df.head().copy()\n",
    "display_df['text'] = display_df['text'].str[:100] + '...'  # Truncate for display\n",
    "display_df['embedding'] = display_df['embedding'].apply(lambda x: f\"array({x.shape})\")\n",
    "display(display_df)"
   ]
  },
  {
   "cell_type": "markdown",
   "metadata": {},
   "source": [
    "### Note on Vector Databases (For Instructors/Advanced Students)\n",
    "\n",
    "**In production RAG systems, embeddings are typically stored in specialized vector databases rather than DataFrames.**\n",
    "\n",
    "#### Common Vector Databases:\n",
    "- **Pinecone**: Managed vector database with excellent performance\n",
    "- **Weaviate**: Open-source with GraphQL API\n",
    "- **Chroma**: Lightweight, embedded vector store\n",
    "- **Qdrant**: High-performance with advanced filtering\n",
    "- **Milvus**: Scalable for billions of vectors\n",
    "- **FAISS**: Facebook's similarity search library\n",
    "\n",
    "#### Advantages over DataFrames:\n",
    "\n",
    "1. **Optimized Indexing**: Use structures like HNSW (Hierarchical Navigable Small World) or IVF (Inverted File Index) for fast similarity search at scale\n",
    "2. **Scalability**: Handle millions or billions of vectors efficiently\n",
    "3. **Advanced Features**:\n",
    "   - Metadata filtering (e.g., \"find similar docs from 2023\")\n",
    "   - Hybrid search (combine keyword and semantic search)\n",
    "   - Real-time updates and deletions\n",
    "4. **Persistence**: Durable storage with backup and replication\n",
    "5. **Distributed Architecture**: Horizontal scaling across multiple machines\n",
    "\n",
    "#### When to Use What:\n",
    "- **DataFrames**: Perfect for learning and prototypes with <10,000 chunks\n",
    "- **Vector Databases**: Essential for production with >10,000 chunks or real-time requirements\n",
    "\n",
    "For this educational notebook, DataFrames are ideal because they're simple, transparent, and require no external services."
   ]
  },
  {
   "cell_type": "markdown",
   "metadata": {},
   "source": [
    "---\n",
    "## Section 4.1: Understanding Chunk Similarity Distribution\n",
    "\n",
    "Before we retrieve chunks, let's understand how similar our chunks are to each other. This helps us evaluate our chunking strategy.\n",
    "\n",
    "### Why Does This Matter?\n",
    "\n",
    "- **Too similar (>0.8 avg)**: Chunks may be redundant, making it hard to distinguish the most relevant ones\n",
    "- **Too disparate (<0.3 avg)**: Chunks may lack coherence, making it hard to retrieve meaningful related context\n",
    "- **Ideal range (0.4-0.7)**: Good diversity while maintaining topical relationships\n",
    "\n",
    "Let's visualize the similarity landscape:"
   ]
  },
  {
   "cell_type": "code",
   "execution_count": 12,
   "metadata": {},
   "outputs": [
    {
     "name": "stdout",
     "output_type": "stream",
     "text": [
      "Computing pairwise similarities for 22 chunks...\n",
      "\n",
      "Similarity Statistics:\n",
      "==================================================\n",
      "Mean similarity: 0.315\n",
      "Std dev: 0.118\n",
      "Min similarity: 0.044\n",
      "Max similarity: 0.742\n"
     ]
    },
    {
     "data": {
      "image/png": "[encoded data removed]",
      "text/plain": [
       "<Figure size 1600x600 with 3 Axes>"
      ]
     },
     "metadata": {},
     "output_type": "display_data"
    },
    {
     "name": "stdout",
     "output_type": "stream",
     "text": [
      "\n",
      "==================================================\n",
      "Interpretation:\n",
      "✓ Good similarity distribution! Chunks have diversity while maintaining coherence.\n",
      "\n",
      "💡 In the heatmap, bright squares indicate clusters of similar chunks.\n",
      "   This often represents chunks from the same topic or section of the document.\n"
     ]
    }
   ],
   "source": [
    "# Compute pairwise cosine similarities\n",
    "# For performance, we'll sample if there are too many chunks\n",
    "sample_size = min(50, len(chunks))  # Use up to 50 chunks for visualization\n",
    "# sample_size = 50\n",
    "sample_indices = np.random.choice(len(chunks), sample_size, replace=False)\n",
    "sample_embeddings = embeddings[sample_indices]\n",
    "\n",
    "print(f\"Computing pairwise similarities for {sample_size} chunks...\")\n",
    "similarity_matrix = util.cos_sim(sample_embeddings, sample_embeddings).numpy()\n",
    "\n",
    "# Calculate statistics (excluding diagonal which is always 1.0)\n",
    "mask = np.triu(np.ones_like(similarity_matrix, dtype=bool), k=1)\n",
    "upper_triangle = similarity_matrix[mask]\n",
    "\n",
    "print(f\"\\nSimilarity Statistics:\")\n",
    "print(f\"=\"*50)\n",
    "print(f\"Mean similarity: {upper_triangle.mean():.3f}\")\n",
    "print(f\"Std dev: {upper_triangle.std():.3f}\")\n",
    "print(f\"Min similarity: {upper_triangle.min():.3f}\")\n",
    "print(f\"Max similarity: {upper_triangle.max():.3f}\")\n",
    "\n",
    "# Create visualizations\n",
    "fig, (ax1, ax2) = plt.subplots(1, 2, figsize=(16, 6))\n",
    "\n",
    "# Heatmap\n",
    "sns.heatmap(similarity_matrix, cmap='YlOrRd', ax=ax1, \n",
    "            xticklabels=False, yticklabels=False,\n",
    "            vmin=0, vmax=1, cbar_kws={'label': 'Cosine Similarity'})\n",
    "ax1.set_title(f'Pairwise Chunk Similarity Heatmap\\n({sample_size} chunks)', fontsize=12)\n",
    "ax1.set_xlabel('Chunk Index')\n",
    "ax1.set_ylabel('Chunk Index')\n",
    "\n",
    "# Histogram\n",
    "ax2.hist(upper_triangle, bins=30, color='steelblue', alpha=0.7, edgecolor='black')\n",
    "ax2.axvline(upper_triangle.mean(), color='red', linestyle='--', linewidth=2, label=f'Mean: {upper_triangle.mean():.3f}')\n",
    "ax2.set_xlabel('Cosine Similarity')\n",
    "ax2.set_ylabel('Frequency')\n",
    "ax2.set_title('Distribution of Pairwise Similarities')\n",
    "ax2.legend()\n",
    "ax2.grid(alpha=0.3)\n",
    "\n",
    "plt.tight_layout()\n",
    "plt.show()\n",
    "\n",
    "# Interpretation\n",
    "print(\"\\n\" + \"=\"*50)\n",
    "print(\"Interpretation:\")\n",
    "if upper_triangle.mean() > 0.8:\n",
    "    print(\"⚠ High average similarity (>0.8): Chunks may be redundant.\")\n",
    "    print(\"  → Consider: Larger chunk sizes or different document\")\n",
    "elif upper_triangle.mean() < 0.3:\n",
    "    print(\"⚠ Low average similarity (<0.3): Chunks may be too disparate.\")\n",
    "    print(\"  → Consider: Smaller chunk sizes or more overlap\")\n",
    "else:\n",
    "    print(\"✓ Good similarity distribution! Chunks have diversity while maintaining coherence.\")\n",
    "\n",
    "# Look for clusters in the heatmap\n",
    "print(\"\\n💡 In the heatmap, bright squares indicate clusters of similar chunks.\")\n",
    "print(\"   This often represents chunks from the same topic or section of the document.\")"
   ]
  },
  {
   "cell_type": "markdown",
   "metadata": {},
   "source": [
    "---\n",
    "## Section 4.2: Visualizing Embeddings in Reduced Dimensions\n",
    "\n",
    "Embeddings exist in high-dimensional space (384 or 768 dimensions), which we can't visualize directly. We'll use **UMAP (Uniform Manifold Approximation and Projection)** to reduce dimensionality to 2D and 3D.\n",
    "\n",
    "### Mathematical Note: UMAP vs PCA\n",
    "\n",
    "**PCA (Principal Component Analysis)**:\n",
    "- Linear dimensionality reduction\n",
    "- Preserves global structure\n",
    "- Faster but less nuanced\n",
    "\n",
    "**UMAP (Uniform Manifold Approximation and Projection)**:\n",
    "- Non-linear dimensionality reduction based on manifold learning\n",
    "- Better preserves local structure (nearby points stay nearby)\n",
    "- Reveals clusters and relationships more clearly\n",
    "- Slower but more informative for semantic embeddings\n",
    "\n",
    "For semantic embeddings, UMAP typically provides more meaningful visualizations."
   ]
  },
  {
   "cell_type": "markdown",
   "metadata": {},
   "source": [
    "### 2D Visualization with UMAP"
   ]
  },
  {
   "cell_type": "code",
   "execution_count": 13,
   "metadata": {},
   "outputs": [
    {
     "name": "stdout",
     "output_type": "stream",
     "text": [
      "Reducing embeddings to 2D with UMAP...\n",
      "This may take a minute...\n",
      "\n",
      "✓ Reduced to 2D: shape (22, 2)\n"
     ]
    }
   ],
   "source": [
    "# Reduce embeddings to 2D using UMAP\n",
    "print(\"Reducing embeddings to 2D with UMAP...\")\n",
    "print(\"This may take a minute...\\n\")\n",
    "\n",
    "reducer_2d = umap.UMAP(n_components=2, random_state=42, n_neighbors=15, min_dist=0.1)\n",
    "embeddings_2d = reducer_2d.fit_transform(embeddings)\n",
    "\n",
    "print(f\"✓ Reduced to 2D: shape {embeddings_2d.shape}\")\n",
    "\n",
    "# Store in DataFrame\n",
    "df['umap_x'] = embeddings_2d[:, 0]\n",
    "df['umap_y'] = embeddings_2d[:, 1]"
   ]
  },
  {
   "cell_type": "code",
   "execution_count": 16,
   "metadata": {},
   "outputs": [
    {
     "data": {
      "application/vnd.jupyter.widget-view+json": {
       "model_id": "4cd99077ab41416f9ce76c350a05cf68",
       "version_major": 2,
       "version_minor": 0
      },
      "text/plain": [
       "interactive(children=(IntSlider(value=22, description='num_chunks', max=22, min=5, step=5), Output()), _dom_cl…"
      ]
     },
     "metadata": {},
     "output_type": "display_data"
    }
   ],
   "source": [
    "# OPTION 1: Interactive with ipywidgets\n",
    "if WIDGETS_AVAILABLE:\n",
    "    def plot_2d_interactive(num_chunks):\n",
    "        plot_df = df.head(num_chunks)\n",
    "        \n",
    "        plt.figure(figsize=(12, 8))\n",
    "        scatter = plt.scatter(plot_df['umap_x'], plot_df['umap_y'], \n",
    "                            c=plot_df['chunk_id'], cmap='viridis', \n",
    "                            s=100, alpha=0.6, edgecolors='black', linewidth=0.5)\n",
    "        \n",
    "        # Add labels for first few points\n",
    "        for idx in range(min(10, num_chunks)):\n",
    "            plt.annotate(str(idx), \n",
    "                        (plot_df.iloc[idx]['umap_x'], plot_df.iloc[idx]['umap_y']),\n",
    "                        xytext=(5, 5), textcoords='offset points', fontsize=8)\n",
    "        \n",
    "        plt.colorbar(scatter, label='Chunk ID')\n",
    "        plt.xlabel('UMAP Dimension 1')\n",
    "        plt.ylabel('UMAP Dimension 2')\n",
    "        plt.title(f'2D UMAP Projection of {num_chunks} Chunk Embeddings')\n",
    "        plt.grid(alpha=0.3)\n",
    "        plt.tight_layout()\n",
    "        plt.show()\n",
    "    \n",
    "    interact(plot_2d_interactive, \n",
    "             num_chunks=widgets.IntSlider(min=5, max=len(chunks), step=5, value=min(50, len(chunks))))\n",
    "else:\n",
    "    # OPTION 2: Simple version\n",
    "    NUM_CHUNKS_TO_PLOT = min(50, len(chunks))  # Modify this value\n",
    "    \n",
    "    plot_df = df.head(NUM_CHUNKS_TO_PLOT)\n",
    "    \n",
    "    plt.figure(figsize=(12, 8))\n",
    "    scatter = plt.scatter(plot_df['umap_x'], plot_df['umap_y'], \n",
    "                        c=plot_df['chunk_id'], cmap='viridis', \n",
    "                        s=100, alpha=0.6, edgecolors='black', linewidth=0.5)\n",
    "    \n",
    "    # Add labels for first few points\n",
    "    for idx in range(min(10, NUM_CHUNKS_TO_PLOT)):\n",
    "        plt.annotate(str(idx), \n",
    "                    (plot_df.iloc[idx]['umap_x'], plot_df.iloc[idx]['umap_y']),\n",
    "                    xytext=(5, 5), textcoords='offset points', fontsize=8)\n",
    "    \n",
    "    plt.colorbar(scatter, label='Chunk ID')\n",
    "    plt.xlabel('UMAP Dimension 1')\n",
    "    plt.ylabel('UMAP Dimension 2')\n",
    "    plt.title(f'2D UMAP Projection of {NUM_CHUNKS_TO_PLOT} Chunk Embeddings')\n",
    "    plt.grid(alpha=0.3)\n",
    "    plt.tight_layout()\n",
    "    plt.show()\n",
    "    \n",
    "    print(\"\\n💡 To change the number of chunks displayed, modify NUM_CHUNKS_TO_PLOT above\")"
   ]
  },
  {
   "cell_type": "markdown",
   "metadata": {},
   "source": [
    "### 3D Visualization with UMAP\n",
    "\n",
    "Now let's create an interactive 3D visualization using Plotly:"
   ]
  },
  {
   "cell_type": "code",
   "execution_count": 17,
   "metadata": {},
   "outputs": [
    {
     "name": "stdout",
     "output_type": "stream",
     "text": [
      "Reducing embeddings to 3D with UMAP...\n",
      "This may take a minute...\n",
      "\n",
      "✓ Reduced to 3D: shape (22, 3)\n"
     ]
    }
   ],
   "source": [
    "# Reduce embeddings to 3D using UMAP\n",
    "print(\"Reducing embeddings to 3D with UMAP...\")\n",
    "print(\"This may take a minute...\\n\")\n",
    "\n",
    "reducer_3d = umap.UMAP(n_components=3, random_state=42, n_neighbors=15, min_dist=0.1)\n",
    "embeddings_3d = reducer_3d.fit_transform(embeddings)\n",
    "\n",
    "print(f\"✓ Reduced to 3D: shape {embeddings_3d.shape}\")\n",
    "\n",
    "# Store in DataFrame\n",
    "df['umap_x_3d'] = embeddings_3d[:, 0]\n",
    "df['umap_y_3d'] = embeddings_3d[:, 1]\n",
    "df['umap_z_3d'] = embeddings_3d[:, 2]"
   ]
  },
  {
   "cell_type": "code",
   "execution_count": 18,
   "metadata": {},
   "outputs": [
    {
     "data": {
      "application/vnd.jupyter.widget-view+json": {
       "model_id": "f03b789390e942e8b04abfb8fc4ea466",
       "version_major": 2,
       "version_minor": 0
      },
      "text/plain": [
       "interactive(children=(IntSlider(value=22, description='num_chunks', max=22, min=5, step=5), Output()), _dom_cl…"
      ]
     },
     "metadata": {},
     "output_type": "display_data"
    }
   ],
   "source": [
    "# OPTION 1: Interactive with ipywidgets\n",
    "if WIDGETS_AVAILABLE:\n",
    "    def plot_3d_interactive(num_chunks):\n",
    "        plot_df = df.head(num_chunks)\n",
    "        \n",
    "        fig = go.Figure(data=[go.Scatter3d(\n",
    "            x=plot_df['umap_x_3d'],\n",
    "            y=plot_df['umap_y_3d'],\n",
    "            z=plot_df['umap_z_3d'],\n",
    "            mode='markers',\n",
    "            marker=dict(\n",
    "                size=5,\n",
    "                color=plot_df['chunk_id'],\n",
    "                colorscale='Viridis',\n",
    "                showscale=True,\n",
    "                colorbar=dict(title=\"Chunk ID\"),\n",
    "                line=dict(color='black', width=0.5)\n",
    "            ),\n",
    "            text=[f\"Chunk {i}: {text[:100]}...\" for i, text in zip(plot_df['chunk_id'], plot_df['text'])],\n",
    "            hoverinfo='text'\n",
    "        )])\n",
    "        \n",
    "        fig.update_layout(\n",
    "            title=f'3D UMAP Projection of {num_chunks} Chunk Embeddings',\n",
    "            scene=dict(\n",
    "                xaxis_title='UMAP Dimension 1',\n",
    "                yaxis_title='UMAP Dimension 2',\n",
    "                zaxis_title='UMAP Dimension 3'\n",
    "            ),\n",
    "            width=900,\n",
    "            height=700\n",
    "        )\n",
    "        \n",
    "        fig.show()\n",
    "    \n",
    "    interact(plot_3d_interactive, \n",
    "             num_chunks=widgets.IntSlider(min=5, max=len(chunks), step=5, value=min(50, len(chunks))))\n",
    "else:\n",
    "    # OPTION 2: Simple version\n",
    "    NUM_CHUNKS_3D = min(50, len(chunks))  # Modify this value\n",
    "    \n",
    "    plot_df = df.head(NUM_CHUNKS_3D)\n",
    "    \n",
    "    fig = go.Figure(data=[go.Scatter3d(\n",
    "        x=plot_df['umap_x_3d'],\n",
    "        y=plot_df['umap_y_3d'],\n",
    "        z=plot_df['umap_z_3d'],\n",
    "        mode='markers',\n",
    "        marker=dict(\n",
    "            size=5,\n",
    "            color=plot_df['chunk_id'],\n",
    "            colorscale='Viridis',\n",
    "            showscale=True,\n",
    "            colorbar=dict(title=\"Chunk ID\"),\n",
    "            line=dict(color='black', width=0.5)\n",
    "        ),\n",
    "        text=[f\"Chunk {i}: {text[:100]}...\" for i, text in zip(plot_df['chunk_id'], plot_df['text'])],\n",
    "        hoverinfo='text'\n",
    "    )])\n",
    "    \n",
    "    fig.update_layout(\n",
    "        title=f'3D UMAP Projection of {NUM_CHUNKS_3D} Chunk Embeddings',\n",
    "        scene=dict(\n",
    "            xaxis_title='UMAP Dimension 1',\n",
    "            yaxis_title='UMAP Dimension 2',\n",
    "            zaxis_title='UMAP Dimension 3'\n",
    "        ),\n",
    "        width=900,\n",
    "        height=700\n",
    "    )\n",
    "    \n",
    "    fig.show()\n",
    "    \n",
    "    print(\"\\n💡 To change the number of chunks displayed, modify NUM_CHUNKS_3D above\")\n",
    "    print(\"💡 You can rotate, zoom, and pan the 3D plot by clicking and dragging!\")"
   ]
  },
  {
   "cell_type": "markdown",
   "metadata": {},
   "source": [
    "---\n",
    "## Section 5: User Query Embedding\n",
    "\n",
    "Now we'll create a query and embed it using the same model. The query embedding can then be compared to chunk embeddings to find the most relevant chunks.\n",
    "\n",
    "### Conceptual Understanding\n",
    "\n",
    "The query goes through the **exact same embedding process** as the chunks:\n",
    "1. Text → Tokenization → Model → Embedding vector\n",
    "2. This ensures queries and chunks exist in the same semantic space\n",
    "3. Distance/similarity in this space reflects semantic similarity\n",
    "\n",
    "### Example Queries by Document Type\n",
    "\n",
    "Choose from these examples or write your own!"
   ]
  },
  {
   "cell_type": "code",
   "execution_count": 19,
   "metadata": {},
   "outputs": [
    {
     "name": "stdout",
     "output_type": "stream",
     "text": [
      "Example queries for Economic Context:\n",
      "==================================================\n",
      "1. How do supply and demand determine market prices?\n",
      "2. What are the different types of unemployment?\n",
      "3. Explain the role of central banks in monetary policy\n",
      "4. What causes income inequality in modern economies?\n",
      "\n",
      "==================================================\n"
     ]
    }
   ],
   "source": [
    "# Example queries for each document type\n",
    "EXAMPLE_QUERIES = {\n",
    "    \"Economic Context\": [\n",
    "        \"How do supply and demand determine market prices?\",\n",
    "        \"What are the different types of unemployment?\",\n",
    "        \"Explain the role of central banks in monetary policy\",\n",
    "        \"What causes income inequality in modern economies?\"\n",
    "    ],\n",
    "    \"Literary Context\": [\n",
    "        \"What is the difference between Romanticism and Realism?\",\n",
    "        \"How do authors use symbolism in literature?\",\n",
    "        \"Explain the concept of narrative point of view\",\n",
    "        \"What is postcolonial literary criticism?\"\n",
    "    ],\n",
    "    \"Philosophy Context\": [\n",
    "        \"What is the mind-body problem in philosophy?\",\n",
    "        \"Explain the difference between rationalism and empiricism\",\n",
    "        \"What is Kant's categorical imperative?\",\n",
    "        \"How does virtue ethics differ from consequentialism?\"\n",
    "    ]\n",
    "}\n",
    "\n",
    "# Display example queries for selected document\n",
    "print(f\"Example queries for {SELECTED_DOCUMENT}:\")\n",
    "print(\"=\"*50)\n",
    "for i, query in enumerate(EXAMPLE_QUERIES[SELECTED_DOCUMENT], 1):\n",
    "    print(f\"{i}. {query}\")\n",
    "print(\"\\n\" + \"=\"*50)"
   ]
  },
  {
   "cell_type": "code",
   "execution_count": 20,
   "metadata": {},
   "outputs": [
    {
     "data": {
      "application/vnd.jupyter.widget-view+json": {
       "model_id": "3cf6d26f52cc41cdb01b5091d88c89d2",
       "version_major": 2,
       "version_minor": 0
      },
      "text/plain": [
       "Textarea(value='How do supply and demand determine market prices?', description='Query:', layout=Layout(height…"
      ]
     },
     "metadata": {},
     "output_type": "display_data"
    },
    {
     "name": "stdout",
     "output_type": "stream",
     "text": [
      "\n",
      "💡 Modify the query above, then run the next cell to embed it\n"
     ]
    }
   ],
   "source": [
    "# OPTION 1: Interactive with ipywidgets\n",
    "if WIDGETS_AVAILABLE:\n",
    "    query_input = widgets.Textarea(\n",
    "        value=EXAMPLE_QUERIES[SELECTED_DOCUMENT][0],\n",
    "        placeholder='Enter your query here...',\n",
    "        description='Query:',\n",
    "        layout=widgets.Layout(width='80%', height='80px')\n",
    "    )\n",
    "    display(query_input)\n",
    "    print(\"\\n💡 Modify the query above, then run the next cell to embed it\")\n",
    "else:\n",
    "    # OPTION 2: Simple version\n",
    "    print(\"\\n💡 Modify the QUERY variable below to try different queries\")\n",
    "    QUERY = EXAMPLE_QUERIES[SELECTED_DOCUMENT][0]  # Change this or write your own!\n",
    "    print(f\"\\nCurrent query: {QUERY}\")"
   ]
  },
  {
   "cell_type": "code",
   "execution_count": 21,
   "metadata": {},
   "outputs": [
    {
     "name": "stdout",
     "output_type": "stream",
     "text": [
      "Query: How do supply and demand determine market prices?\n",
      "\n",
      "==================================================\n",
      "\n",
      "Embedding query...\n",
      "✓ Query embedded!\n",
      "  Shape: (384,)\n",
      "  Dimensions: 384\n",
      "\n",
      "Similarity to first chunk: 0.3424\n",
      "First chunk: The study of economics is fundamentally concerned with how societies allocate scarce resources among...\n"
     ]
    }
   ],
   "source": [
    "# Get the query text\n",
    "if WIDGETS_AVAILABLE:\n",
    "    query = query_input.value\n",
    "else:\n",
    "    query = QUERY\n",
    "\n",
    "print(f\"Query: {query}\")\n",
    "print(\"\\n\" + \"=\"*50)\n",
    "\n",
    "# Embed the query\n",
    "print(\"\\nEmbedding query...\")\n",
    "query_embedding = model.encode(query, convert_to_numpy=True)\n",
    "\n",
    "print(f\"✓ Query embedded!\")\n",
    "print(f\"  Shape: {query_embedding.shape}\")\n",
    "print(f\"  Dimensions: {len(query_embedding)}\")\n",
    "\n",
    "# Show a preview of similarity to first chunk\n",
    "sample_similarity = util.cos_sim(query_embedding, embeddings[0]).item()\n",
    "print(f\"\\nSimilarity to first chunk: {sample_similarity:.4f}\")\n",
    "print(f\"First chunk: {chunks[0][:100]}...\")"
   ]
  },
  {
   "cell_type": "markdown",
   "metadata": {},
   "source": [
    "---\n",
    "## Section 6: Chunk Retrieval\n",
    "\n",
    "Now we'll retrieve the most relevant chunks for our query. We'll explore two retrieval methods:\n",
    "\n",
    "1. **Top-K Retrieval**: Retrieve the k most similar chunks\n",
    "2. **Threshold-Based Retrieval**: Retrieve all chunks above a similarity threshold\n",
    "3. **Combined**: Use both criteria together\n",
    "\n",
    "### Mathematical Note: Cosine Similarity\n",
    "\n",
    "Cosine similarity measures the cosine of the angle between two vectors:\n",
    "\n",
    "**cos(θ) = (A · B) / (||A|| ||B||)**\n",
    "\n",
    "Where:\n",
    "- A · B is the dot product of vectors A and B\n",
    "- ||A|| and ||B|| are the magnitudes (norms) of the vectors\n",
    "\n",
    "**Range**: -1 to 1\n",
    "- 1 = identical direction (perfect similarity)\n",
    "- 0 = orthogonal (no similarity)\n",
    "- -1 = opposite direction (perfect dissimilarity)\n",
    "\n",
    "For normalized embeddings (like ours), cosine similarity is equivalent to dot product."
   ]
  },
  {
   "cell_type": "code",
   "execution_count": 22,
   "metadata": {},
   "outputs": [
    {
     "name": "stdout",
     "output_type": "stream",
     "text": [
      "Calculating similarities...\n",
      "✓ Similarities calculated for 22 chunks\n",
      "\n",
      "Similarity Statistics:\n",
      "  Mean: 0.2870\n",
      "  Std dev: 0.1668\n",
      "  Min: 0.0447\n",
      "  Max: 0.7450\n"
     ]
    }
   ],
   "source": [
    "# Calculate cosine similarity between query and all chunks\n",
    "print(\"Calculating similarities...\")\n",
    "similarities = util.cos_sim(query_embedding, embeddings)[0].numpy()\n",
    "\n",
    "# Add similarities to dataframe\n",
    "df['similarity'] = similarities\n",
    "\n",
    "print(f\"✓ Similarities calculated for {len(similarities)} chunks\")\n",
    "print(f\"\\nSimilarity Statistics:\")\n",
    "print(f\"  Mean: {similarities.mean():.4f}\")\n",
    "print(f\"  Std dev: {similarities.std():.4f}\")\n",
    "print(f\"  Min: {similarities.min():.4f}\")\n",
    "print(f\"  Max: {similarities.max():.4f}\")"
   ]
  },
  {
   "cell_type": "markdown",
   "metadata": {},
   "source": [
    "### Method 1: Top-K Retrieval\n",
    "\n",
    "Retrieve the k most similar chunks regardless of their absolute similarity scores."
   ]
  },
  {
   "cell_type": "code",
   "execution_count": 23,
   "metadata": {},
   "outputs": [
    {
     "name": "stdout",
     "output_type": "stream",
     "text": [
      "Top 5 Most Similar Chunks:\n",
      "================================================================================\n",
      "\n",
      "Chunk 1 | Similarity: 0.7450\n",
      "consumers, firms, and workers. It examines how these agents make decisions about the allocation of resources and how these decisions interact in markets. The concept of supply and demand is central to microeconomic analysis. Supply represents the quantity of a good or service that producers are will...\n",
      "--------------------------------------------------------------------------------\n",
      "\n",
      "Chunk 4 | Similarity: 0.5863\n",
      "duction levels and variable costs that do. Understanding these cost structures is crucial for analyzing firm behavior and market outcomes.\n",
      "\n",
      "Market structures vary significantly, from perfect competition to monopoly, with oligopoly and monopolistic competition in between. In perfectly competitive mar...\n",
      "--------------------------------------------------------------------------------\n",
      "\n",
      "Chunk 3 | Similarity: 0.4559\n",
      " consuming one more unit decreases. This principle has important implications for understanding demand curves and consumer choices.\n",
      "\n",
      "On the production side, firms operate to maximize profits by choosing the optimal combination of inputs to produce outputs. Production functions describe the relations...\n",
      "--------------------------------------------------------------------------------\n",
      "\n",
      "Chunk 2 | Similarity: 0.4350\n",
      "termines the equilibrium price and quantity in a market.\n",
      "\n",
      "Consumer behavior is analyzed through the lens of utility theory, which posits that consumers seek to maximize their satisfaction or utility subject to their budget constraints. This framework helps explain how consumers make choices among di...\n",
      "--------------------------------------------------------------------------------\n",
      "\n",
      "Chunk 13 | Similarity: 0.4006\n",
      "to reduce barriers like tariffs and quotas, facilitating greater international commerce. However, trade can create winners and losers within countries, leading to political debates about trade policy.\n",
      "\n",
      "Exchange rates, the prices at which currencies trade, play a crucial role in international economi...\n",
      "--------------------------------------------------------------------------------\n"
     ]
    }
   ],
   "source": [
    "# RETRIEVAL PARAMETERS\n",
    "TOP_K = 5  # Number of chunks to retrieve\n",
    "\n",
    "# Retrieve top-k chunks\n",
    "top_k_results = df.nlargest(TOP_K, 'similarity')[['chunk_id', 'text', 'similarity']].copy()\n",
    "\n",
    "print(f\"Top {TOP_K} Most Similar Chunks:\")\n",
    "print(\"=\"*80)\n",
    "for idx, row in top_k_results.iterrows():\n",
    "    print(f\"\\nChunk {row['chunk_id']} | Similarity: {row['similarity']:.4f}\")\n",
    "    print(f\"{row['text'][:300]}...\")\n",
    "    print(\"-\"*80)"
   ]
  },
  {
   "cell_type": "markdown",
   "metadata": {},
   "source": [
    "### Method 2: Threshold-Based Retrieval\n",
    "\n",
    "Retrieve all chunks above a certain similarity threshold."
   ]
  },
  {
   "cell_type": "code",
   "execution_count": 24,
   "metadata": {},
   "outputs": [
    {
     "name": "stdout",
     "output_type": "stream",
     "text": [
      "Chunks with Similarity >= 0.3:\n",
      "================================================================================\n",
      "Found 9 chunks\n",
      "\n",
      "\n",
      "Chunk 1 | Similarity: 0.7450\n",
      "consumers, firms, and workers. It examines how these agents make decisions about the allocation of resources and how these decisions interact in markets. The concept of supply and demand is central to microeconomic analysis. Supply represents the quantity of a good or service that producers are will...\n",
      "--------------------------------------------------------------------------------\n",
      "\n",
      "Chunk 4 | Similarity: 0.5863\n",
      "duction levels and variable costs that do. Understanding these cost structures is crucial for analyzing firm behavior and market outcomes.\n",
      "\n",
      "Market structures vary significantly, from perfect competition to monopoly, with oligopoly and monopolistic competition in between. In perfectly competitive mar...\n",
      "--------------------------------------------------------------------------------\n",
      "\n",
      "Chunk 3 | Similarity: 0.4559\n",
      " consuming one more unit decreases. This principle has important implications for understanding demand curves and consumer choices.\n",
      "\n",
      "On the production side, firms operate to maximize profits by choosing the optimal combination of inputs to produce outputs. Production functions describe the relations...\n",
      "--------------------------------------------------------------------------------\n",
      "\n",
      "Chunk 2 | Similarity: 0.4350\n",
      "termines the equilibrium price and quantity in a market.\n",
      "\n",
      "Consumer behavior is analyzed through the lens of utility theory, which posits that consumers seek to maximize their satisfaction or utility subject to their budget constraints. This framework helps explain how consumers make choices among di...\n",
      "--------------------------------------------------------------------------------\n",
      "\n",
      "Chunk 13 | Similarity: 0.4006\n",
      "to reduce barriers like tariffs and quotas, facilitating greater international commerce. However, trade can create winners and losers within countries, leading to political debates about trade policy.\n",
      "\n",
      "Exchange rates, the prices at which currencies trade, play a crucial role in international economi...\n",
      "--------------------------------------------------------------------------------\n"
     ]
    }
   ],
   "source": [
    "# THRESHOLD PARAMETER\n",
    "SIMILARITY_THRESHOLD = 0.3  # Minimum similarity score (0.0 to 1.0)\n",
    "\n",
    "# Retrieve chunks above threshold\n",
    "threshold_results = df[df['similarity'] >= SIMILARITY_THRESHOLD].nlargest(20, 'similarity')[['chunk_id', 'text', 'similarity']].copy()\n",
    "\n",
    "print(f\"Chunks with Similarity >= {SIMILARITY_THRESHOLD}:\")\n",
    "print(\"=\"*80)\n",
    "print(f\"Found {len(threshold_results)} chunks\\n\")\n",
    "\n",
    "for idx, row in threshold_results.head(5).iterrows():  # Show top 5\n",
    "    print(f\"\\nChunk {row['chunk_id']} | Similarity: {row['similarity']:.4f}\")\n",
    "    print(f\"{row['text'][:300]}...\")\n",
    "    print(\"-\"*80)"
   ]
  },
  {
   "cell_type": "markdown",
   "metadata": {},
   "source": [
    "### Method 3: Combined (Top-K AND Threshold)\n",
    "\n",
    "Retrieve up to k chunks that also meet the threshold requirement."
   ]
  },
  {
   "cell_type": "code",
   "execution_count": 25,
   "metadata": {},
   "outputs": [
    {
     "name": "stdout",
     "output_type": "stream",
     "text": [
      "Combined Retrieval (Top 5 with Similarity >= 0.3):\n",
      "================================================================================\n",
      "Retrieved 5 chunks\n",
      "\n",
      "\n",
      "Chunk 1 | Similarity: 0.7450\n",
      "consumers, firms, and workers. It examines how these agents make decisions about the allocation of resources and how these decisions interact in markets. The concept of supply and demand is central to microeconomic analysis. Supply represents the quantity of a good or service that producers are will...\n",
      "--------------------------------------------------------------------------------\n",
      "\n",
      "Chunk 4 | Similarity: 0.5863\n",
      "duction levels and variable costs that do. Understanding these cost structures is crucial for analyzing firm behavior and market outcomes.\n",
      "\n",
      "Market structures vary significantly, from perfect competition to monopoly, with oligopoly and monopolistic competition in between. In perfectly competitive mar...\n",
      "--------------------------------------------------------------------------------\n",
      "\n",
      "Chunk 3 | Similarity: 0.4559\n",
      " consuming one more unit decreases. This principle has important implications for understanding demand curves and consumer choices.\n",
      "\n",
      "On the production side, firms operate to maximize profits by choosing the optimal combination of inputs to produce outputs. Production functions describe the relations...\n",
      "--------------------------------------------------------------------------------\n",
      "\n",
      "Chunk 2 | Similarity: 0.4350\n",
      "termines the equilibrium price and quantity in a market.\n",
      "\n",
      "Consumer behavior is analyzed through the lens of utility theory, which posits that consumers seek to maximize their satisfaction or utility subject to their budget constraints. This framework helps explain how consumers make choices among di...\n",
      "--------------------------------------------------------------------------------\n",
      "\n",
      "Chunk 13 | Similarity: 0.4006\n",
      "to reduce barriers like tariffs and quotas, facilitating greater international commerce. However, trade can create winners and losers within countries, leading to political debates about trade policy.\n",
      "\n",
      "Exchange rates, the prices at which currencies trade, play a crucial role in international economi...\n",
      "--------------------------------------------------------------------------------\n"
     ]
    }
   ],
   "source": [
    "# Combined retrieval\n",
    "combined_results = df[df['similarity'] >= SIMILARITY_THRESHOLD].nlargest(TOP_K, 'similarity')[['chunk_id', 'text', 'similarity']].copy()\n",
    "\n",
    "print(f\"Combined Retrieval (Top {TOP_K} with Similarity >= {SIMILARITY_THRESHOLD}):\")\n",
    "print(\"=\"*80)\n",
    "print(f\"Retrieved {len(combined_results)} chunks\\n\")\n",
    "\n",
    "for idx, row in combined_results.iterrows():\n",
    "    print(f\"\\nChunk {row['chunk_id']} | Similarity: {row['similarity']:.4f}\")\n",
    "    print(f\"{row['text'][:300]}...\")\n",
    "    print(\"-\"*80)"
   ]
  },
  {
   "cell_type": "markdown",
   "metadata": {},
   "source": [
    "### Comparison of Retrieval Methods"
   ]
  },
  {
   "cell_type": "code",
   "execution_count": 26,
   "metadata": {},
   "outputs": [
    {
     "data": {
      "image/png": "[encoded data removed]",
      "text/plain": [
       "<Figure size 1200x600 with 1 Axes>"
      ]
     },
     "metadata": {},
     "output_type": "display_data"
    },
    {
     "name": "stdout",
     "output_type": "stream",
     "text": [
      "\n",
      "Retrieval Method Comparison:\n",
      "==================================================\n",
      "Top-K (5): 5 chunks retrieved\n",
      "Threshold (>=0.3): 9 chunks retrieved\n",
      "Combined: 5 chunks retrieved\n",
      "\n",
      "💡 Trade-offs:\n",
      "  - Top-K: Guarantees fixed number of results, but may include irrelevant chunks\n",
      "  - Threshold: Ensures quality, but number of results varies\n",
      "  - Combined: Best of both - quality assurance with upper limit\n"
     ]
    }
   ],
   "source": [
    "# Visualize similarity distribution with retrieval boundaries\n",
    "plt.figure(figsize=(12, 6))\n",
    "\n",
    "plt.hist(similarities, bins=50, color='lightblue', alpha=0.7, edgecolor='black')\n",
    "plt.axvline(SIMILARITY_THRESHOLD, color='red', linestyle='--', linewidth=2, \n",
    "            label=f'Threshold: {SIMILARITY_THRESHOLD}')\n",
    "\n",
    "# Mark top-k cutoff\n",
    "if len(top_k_results) > 0:\n",
    "    top_k_cutoff = top_k_results.iloc[-1]['similarity']\n",
    "    plt.axvline(top_k_cutoff, color='green', linestyle='--', linewidth=2,\n",
    "                label=f'Top-{TOP_K} Cutoff: {top_k_cutoff:.3f}')\n",
    "\n",
    "plt.xlabel('Cosine Similarity')\n",
    "plt.ylabel('Frequency')\n",
    "plt.title('Distribution of Similarities with Retrieval Boundaries')\n",
    "plt.legend()\n",
    "plt.grid(alpha=0.3)\n",
    "plt.tight_layout()\n",
    "plt.show()\n",
    "\n",
    "print(\"\\nRetrieval Method Comparison:\")\n",
    "print(\"=\"*50)\n",
    "print(f\"Top-K ({TOP_K}): {len(top_k_results)} chunks retrieved\")\n",
    "print(f\"Threshold (>={SIMILARITY_THRESHOLD}): {len(threshold_results)} chunks retrieved\")\n",
    "print(f\"Combined: {len(combined_results)} chunks retrieved\")\n",
    "\n",
    "print(\"\\n💡 Trade-offs:\")\n",
    "print(\"  - Top-K: Guarantees fixed number of results, but may include irrelevant chunks\")\n",
    "print(\"  - Threshold: Ensures quality, but number of results varies\")\n",
    "print(\"  - Combined: Best of both - quality assurance with upper limit\")"
   ]
  },
  {
   "cell_type": "markdown",
   "metadata": {},
   "source": [
    "### Note on Reranking (For Instructors/Advanced Students)\n",
    "\n",
    "**After initial retrieval, production systems often use a reranking step to improve result quality.**\n",
    "\n",
    "#### Why Rerank?\n",
    "\n",
    "1. **Two-Stage Pipeline**: \n",
    "   - First stage (what we just did): Fast, broad retrieval using embeddings\n",
    "   - Second stage (reranking): Slower, more accurate scoring of candidates\n",
    "\n",
    "2. **Embedding Limitations**:\n",
    "   - Embedding similarity captures general semantic similarity\n",
    "   - May miss nuanced relevance signals\n",
    "   - Single vector per chunk loses fine-grained information\n",
    "\n",
    "3. **Reranker Advantages**:\n",
    "   - Cross-attention between query and passage\n",
    "   - More computationally expensive (hence used on smaller candidate set)\n",
    "   - Better at determining exact relevance\n",
    "\n",
    "#### Common Reranking Approaches:\n",
    "\n",
    "1. **Cross-Encoder Models**:\n",
    "   - BERT-based models that process query and passage together\n",
    "   - Examples: `cross-encoder/ms-marco-MiniLM-L-6-v2`\n",
    "   - More accurate but ~100x slower than bi-encoders\n",
    "\n",
    "2. **Commercial APIs**:\n",
    "   - Cohere Rerank API\n",
    "   - Voyage AI Rerank\n",
    "   - Easy to integrate, high quality\n",
    "\n",
    "3. **Hybrid Approaches**:\n",
    "   - Combine with keyword search (BM25)\n",
    "   - Use metadata signals (recency, source authority)\n",
    "   - Learning-to-rank models\n",
    "\n",
    "#### Typical Production Pipeline:\n",
    "\n",
    "```\n",
    "Query → Embed → Retrieve top-100 (fast, embedding similarity)\n",
    "      → Rerank top-100 to top-10 (slower, cross-encoder)\n",
    "      → Pass top-10 to LLM for generation\n",
    "```\n",
    "\n",
    "**For this educational notebook, we skip reranking to focus on core RAG concepts, but it's valuable in production systems where quality matters more than speed.**"
   ]
  },
  {
   "cell_type": "markdown",
   "metadata": {},
   "source": [
    "---\n",
    "## Section 6.1: Visualizing Query in Embedding Space\n",
    "\n",
    "Let's visualize where our query sits in the embedding space and see which chunks fall within the retrieval boundary.\n",
    "\n",
    "### Mathematical Note: Distance Metrics\n",
    "\n",
    "The radius we'll draw represents the **maximum distance** to retrieved chunks:\n",
    "\n",
    "- For top-k: Distance to the k-th ranked chunk\n",
    "- For threshold: Distance corresponding to the similarity threshold\n",
    "- Distance in UMAP space ≠ cosine similarity (UMAP distorts distances)\n",
    "- But relative positions are preserved\n",
    "\n",
    "This visualization helps understand the **similarity boundary** concept."
   ]
  },
  {
   "cell_type": "code",
   "execution_count": 27,
   "metadata": {},
   "outputs": [
    {
     "name": "stdout",
     "output_type": "stream",
     "text": [
      "Query embedded in 2D UMAP space\n",
      "Retrieval method: top_k\n",
      "Retrieved chunks: 5\n",
      "Cutoff similarity: 0.4006\n",
      "Visualization radius: 2.0423\n"
     ]
    }
   ],
   "source": [
    "# Embed the query in 2D space using the same UMAP reducer\n",
    "query_2d = reducer_2d.transform(query_embedding.reshape(1, -1))[0]\n",
    "\n",
    "# Store retrieval method choice\n",
    "RETRIEVAL_METHOD = \"top_k\"  # Options: \"top_k\", \"threshold\", \"combined\"\n",
    "\n",
    "# Get retrieved chunk IDs based on method\n",
    "if RETRIEVAL_METHOD == \"top_k\":\n",
    "    retrieved_ids = set(top_k_results['chunk_id'])\n",
    "    cutoff_similarity = top_k_results.iloc[-1]['similarity']\n",
    "elif RETRIEVAL_METHOD == \"threshold\":\n",
    "    retrieved_ids = set(threshold_results['chunk_id'])\n",
    "    cutoff_similarity = SIMILARITY_THRESHOLD\n",
    "else:  # combined\n",
    "    retrieved_ids = set(combined_results['chunk_id'])\n",
    "    cutoff_similarity = combined_results.iloc[-1]['similarity'] if len(combined_results) > 0 else SIMILARITY_THRESHOLD\n",
    "\n",
    "# Calculate radius in UMAP space (approximate)\n",
    "retrieved_points = df[df['chunk_id'].isin(retrieved_ids)][['umap_x', 'umap_y']].values\n",
    "if len(retrieved_points) > 0:\n",
    "    distances = np.sqrt(np.sum((retrieved_points - query_2d)**2, axis=1))\n",
    "    radius = distances.max()\n",
    "else:\n",
    "    radius = 0\n",
    "\n",
    "print(f\"Query embedded in 2D UMAP space\")\n",
    "print(f\"Retrieval method: {RETRIEVAL_METHOD}\")\n",
    "print(f\"Retrieved chunks: {len(retrieved_ids)}\")\n",
    "print(f\"Cutoff similarity: {cutoff_similarity:.4f}\")\n",
    "print(f\"Visualization radius: {radius:.4f}\")"
   ]
  },
  {
   "cell_type": "markdown",
   "metadata": {},
   "source": [
    "### 2D Visualization with Query"
   ]
  },
  {
   "cell_type": "code",
   "execution_count": 29,
   "metadata": {},
   "outputs": [
    {
     "data": {
      "application/vnd.jupyter.widget-view+json": {
       "model_id": "01de5366651749f6bdef7a03c4db4db8",
       "version_major": 2,
       "version_minor": 0
      },
      "text/plain": [
       "interactive(children=(IntSlider(value=22, description='num_chunks', max=22, min=5, step=5), Output()), _dom_cl…"
      ]
     },
     "metadata": {},
     "output_type": "display_data"
    }
   ],
   "source": [
    "# OPTION 1: Interactive with ipywidgets\n",
    "if WIDGETS_AVAILABLE:\n",
    "    def plot_query_2d_interactive(num_chunks):\n",
    "        plot_df = df.head(num_chunks)\n",
    "        \n",
    "        fig, ax = plt.subplots(figsize=(14, 10))\n",
    "        \n",
    "        # Plot non-retrieved chunks in gray\n",
    "        non_retrieved = plot_df[~plot_df['chunk_id'].isin(retrieved_ids)]\n",
    "        ax.scatter(non_retrieved['umap_x'], non_retrieved['umap_y'], \n",
    "                  c='lightgray', s=50, alpha=0.3, label='Not Retrieved')\n",
    "        \n",
    "        # Plot retrieved chunks in green\n",
    "        retrieved = plot_df[plot_df['chunk_id'].isin(retrieved_ids)]\n",
    "        ax.scatter(retrieved['umap_x'], retrieved['umap_y'], \n",
    "                  c='limegreen', s=150, alpha=0.7, edgecolors='darkgreen', \n",
    "                  linewidth=2, label='Retrieved', marker='o')\n",
    "        \n",
    "        # Plot query as red star\n",
    "        ax.scatter(query_2d[0], query_2d[1], c='red', s=500, marker='*', \n",
    "                  edgecolors='darkred', linewidth=2, label='Query', zorder=5)\n",
    "        \n",
    "        # Draw circle around query\n",
    "        circle = plt.Circle((query_2d[0], query_2d[1]), radius, \n",
    "                           color='blue', fill=False, linestyle='--', \n",
    "                           linewidth=2, alpha=0.5, label=f'Retrieval Boundary')\n",
    "        ax.add_patch(circle)\n",
    "        \n",
    "        # Draw filled circle with transparency\n",
    "        circle_fill = plt.Circle((query_2d[0], query_2d[1]), radius, \n",
    "                                color='lightblue', alpha=0.1)\n",
    "        ax.add_patch(circle_fill)\n",
    "        \n",
    "        ax.set_xlabel('UMAP Dimension 1', fontsize=12)\n",
    "        ax.set_ylabel('UMAP Dimension 2', fontsize=12)\n",
    "        ax.set_title(f'Query and Retrieved Chunks in 2D Embedding Space\\n' + \n",
    "                    f'Method: {RETRIEVAL_METHOD} | Retrieved: {len(retrieved_ids)} chunks',\n",
    "                    fontsize=14),ax.legend(loc='best', fontsize=10)\n",
    "        ax.grid(alpha=0.3)\n",
    "        ax.set_aspect('equal', adjustable='box')\n",
    "        plt.tight_layout()\n",
    "        plt.show()\n",
    "    \n",
    "    interact(plot_query_2d_interactive, \n",
    "             num_chunks=widgets.IntSlider(min=5, max=len(chunks), step=5, value=min(50, len(chunks))))\n",
    "else:\n",
    "    # OPTION 2: Simple version\n",
    "    NUM_CHUNKS_QUERY = min(50, len(chunks))  # Modify this value\n",
    "    \n",
    "    plot_df = df.head(NUM_CHUNKS_QUERY)\n",
    "    \n",
    "    fig, ax = plt.subplots(figsize=(14, 10))\n",
    "    \n",
    "    # Plot non-retrieved chunks in gray\n",
    "    non_retrieved = plot_df[~plot_df['chunk_id'].isin(retrieved_ids)]\n",
    "    ax.scatter(non_retrieved['umap_x'], non_retrieved['umap_y'], \n",
    "              c='lightgray', s=50, alpha=0.3, label='Not Retrieved')\n",
    "    \n",
    "    # Plot retrieved chunks in green\n",
    "    retrieved = plot_df[plot_df['chunk_id'].isin(retrieved_ids)]\n",
    "    ax.scatter(retrieved['umap_x'], retrieved['umap_y'], \n",
    "              c='limegreen', s=150, alpha=0.7, edgecolors='darkgreen', \n",
    "              linewidth=2, label='Retrieved', marker='o')\n",
    "    \n",
    "    # Plot query as red star\n",
    "    ax.scatter(query_2d[0], query_2d[1], c='red', s=500, marker='*', \n",
    "              edgecolors='darkred', linewidth=2, label='Query', zorder=5)\n",
    "    \n",
    "    # Draw circle around query\n",
    "    circle = plt.Circle((query_2d[0], query_2d[1]), radius, \n",
    "                       color='blue', fill=False, linestyle='--', \n",
    "                       linewidth=2, alpha=0.5, label=f'Retrieval Boundary')\n",
    "    ax.add_patch(circle)\n",
    "    \n",
    "    # Draw filled circle with transparency\n",
    "    circle_fill = plt.Circle((query_2d[0], query_2d[1]), radius, \n",
    "                            color='lightblue', alpha=0.1)\n",
    "    ax.add_patch(circle_fill)\n",
    "    \n",
    "    ax.set_xlabel('UMAP Dimension 1', fontsize=12)\n",
    "    ax.set_ylabel('UMAP Dimension 2', fontsize=12)\n",
    "    ax.set_title(f'Query and Retrieved Chunks in 2D Embedding Space\\n' + \n",
    "                f'Method: {RETRIEVAL_METHOD} | Retrieved: {len(retrieved_ids)} chunks',\n",
    "                fontsize=14)\n",
    "    ax.legend(loc='best', fontsize=10)\n",
    "    ax.grid(alpha=0.3)\n",
    "    ax.set_aspect('equal', adjustable='box')\n",
    "    plt.tight_layout()\n",
    "    plt.show()\n",
    "    \n",
    "    print(\"\\n💡 To change the number of chunks displayed, modify NUM_CHUNKS_QUERY above\")"
   ]
  },
  {
   "cell_type": "markdown",
   "metadata": {},
   "source": [
    "### 3D Visualization with Query"
   ]
  },
  {
   "cell_type": "code",
   "execution_count": 30,
   "metadata": {},
   "outputs": [
    {
     "name": "stdout",
     "output_type": "stream",
     "text": [
      "Query embedded in 3D UMAP space\n",
      "3D visualization radius: 1.9791\n"
     ]
    }
   ],
   "source": [
    "# Embed the query in 3D space\n",
    "query_3d = reducer_3d.transform(query_embedding.reshape(1, -1))[0]\n",
    "\n",
    "# Calculate radius in 3D space\n",
    "retrieved_points_3d = df[df['chunk_id'].isin(retrieved_ids)][['umap_x_3d', 'umap_y_3d', 'umap_z_3d']].values\n",
    "if len(retrieved_points_3d) > 0:\n",
    "    distances_3d = np.sqrt(np.sum((retrieved_points_3d - query_3d)**2, axis=1))\n",
    "    radius_3d = distances_3d.max()\n",
    "else:\n",
    "    radius_3d = 0\n",
    "\n",
    "print(f\"Query embedded in 3D UMAP space\")\n",
    "print(f\"3D visualization radius: {radius_3d:.4f}\")"
   ]
  },
  {
   "cell_type": "code",
   "execution_count": 31,
   "metadata": {},
   "outputs": [
    {
     "data": {
      "application/vnd.plotly.v1+json": {
       "config": {
        "plotlyServerURL": "https://plot.ly"
       },
       "data": [
        {
         "hoverinfo": "text",
         "marker": {
          "color": "lightgray",
          "opacity": 0.3,
          "size": 4
         },
         "mode": "markers",
         "name": "Not Retrieved",
         "text": [
          "Chunk 0",
          "Chunk 5",
          "Chunk 6",
          "Chunk 7",
          "Chunk 8",
          "Chunk 9",
          "Chunk 10",
          "Chunk 11",
          "Chunk 12",
          "Chunk 14",
          "Chunk 15",
          "Chunk 16",
          "Chunk 17",
          "Chunk 18",
          "Chunk 19",
          "Chunk 20",
          "Chunk 21"
         ],
         "type": "scatter3d",
         "x": {
          "bdata": "7C7KPyv2XT9OcGE/vyK1P7XEsz8h71c/5skIP53JZj9iJas+cxqlPQtMYD8lvh4/270nP/+FwT+0ZFk/QgIGPQyy3T0=",
          "dtype": "f4"
         },
         "y": {
          "bdata": "vW+iQPj4nUBdeLdADgS7QMdXq0AP4LtANNqsQMIGmEB5LJNAB+SCQKmRdEB9hKNABAO7QG/VuUAQz8dAX0quQPUpnEA=",
          "dtype": "f4"
         },
         "z": {
          "bdata": "xsGWQGO2Z0DPsn9AolF0QIr3SECqsURAYqg+QIixNkAgwIpAKg99QO3nekCc9adA7gmhQOHonkCkPJFAvoedQMCFo0A=",
          "dtype": "f4"
         }
        },
        {
         "hoverinfo": "text",
         "marker": {
          "color": "limegreen",
          "line": {
           "color": "darkgreen",
           "width": 2
          },
          "opacity": 0.8,
          "size": 8
         },
         "mode": "markers",
         "name": "Retrieved",
         "text": [
          "Chunk 1: consumers, firms, and workers. It examines how these agents make decisions about the allocation of r...",
          "Chunk 2: termines the equilibrium price and quantity in a market.\n\nConsumer behavior is analyzed through the ...",
          "Chunk 3:  consuming one more unit decreases. This principle has important implications for understanding dema...",
          "Chunk 4: duction levels and variable costs that do. Understanding these cost structures is crucial for analyz...",
          "Chunk 13: to reduce barriers like tariffs and quotas, facilitating greater international commerce. However, tr..."
         ],
         "type": "scatter3d",
         "x": {
          "bdata": "0DjDP6sLzD8LIg5AoR3uP4Zyrz4=",
          "dtype": "f4"
         },
         "y": {
          "bdata": "WTmLQOyfiUDjV5NAMyx+QBwzkEA=",
          "dtype": "f4"
         },
         "z": {
          "bdata": "YTyeQLesjkDNo45AE5CYQCCfZ0A=",
          "dtype": "f4"
         }
        },
        {
         "hoverinfo": "text",
         "marker": {
          "color": "red",
          "line": {
           "color": "darkred",
           "width": 2
          },
          "size": 15,
          "symbol": "diamond"
         },
         "mode": "markers",
         "name": "Query",
         "text": [
          "Query: How do supply and demand determine market prices?"
         ],
         "type": "scatter3d",
         "x": [
          1.9477746486663818
         ],
         "y": [
          3.360799789428711
         ],
         "z": [
          3.788125991821289
         ]
        },
        {
         "colorscale": [
          [
           0,
           "lightblue"
          ],
          [
           1,
           "lightblue"
          ]
         ],
         "hoverinfo": "skip",
         "name": "Retrieval Boundary",
         "opacity": 0.2,
         "showscale": false,
         "type": "surface",
         "x": {
          "bdata": "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",
          "dtype": "f8",
          "shape": "50, 50"
         },
         "y": {
          "bdata": "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",
          "dtype": "f8",
          "shape": "50, 50"
         },
         "z": {
          "bdata": "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",
          "dtype": "f8",
          "shape": "50, 50"
         }
        }
       ],
       "layout": {
        "height": 800,
        "scene": {
         "aspectmode": "data",
         "xaxis": {
          "title": {
           "text": "UMAP Dimension 1"
          }
         },
         "yaxis": {
          "title": {
           "text": "UMAP Dimension 2"
          }
         },
         "zaxis": {
          "title": {
           "text": "UMAP Dimension 3"
          }
         }
        },
        "template": {
         "data": {
          "bar": [
           {
            "error_x": {
             "color": "#2a3f5f"
            },
            "error_y": {
             "color": "#2a3f5f"
            },
            "marker": {
             "line": {
              "color": "#E5ECF6",
              "width": 0.5
             },
             "pattern": {
              "fillmode": "overlay",
              "size": 10,
              "solidity": 0.2
             }
            },
            "type": "bar"
           }
          ],
          "barpolar": [
           {
            "marker": {
             "line": {
              "color": "#E5ECF6",
              "width": 0.5
             },
             "pattern": {
              "fillmode": "overlay",
              "size": 10,
              "solidity": 0.2
             }
            },
            "type": "barpolar"
           }
          ],
          "carpet": [
           {
            "aaxis": {
             "endlinecolor": "#2a3f5f",
             "gridcolor": "white",
             "linecolor": "white",
             "minorgridcolor": "white",
             "startlinecolor": "#2a3f5f"
            },
            "baxis": {
             "endlinecolor": "#2a3f5f",
             "gridcolor": "white",
             "linecolor": "white",
             "minorgridcolor": "white",
             "startlinecolor": "#2a3f5f"
            },
            "type": "carpet"
           }
          ],
          "choropleth": [
           {
            "colorbar": {
             "outlinewidth": 0,
             "ticks": ""
            },
            "type": "choropleth"
           }
          ],
          "contour": [
           {
            "colorbar": {
             "outlinewidth": 0,
             "ticks": ""
            },
            "colorscale": [
             [
              0,
              "#0d0887"
             ],
             [
              0.1111111111111111,
              "#46039f"
             ],
             [
              0.2222222222222222,
              "#7201a8"
             ],
             [
              0.3333333333333333,
              "#9c179e"
             ],
             [
              0.4444444444444444,
              "#bd3786"
             ],
             [
              0.5555555555555556,
              "#d8576b"
             ],
             [
              0.6666666666666666,
              "#ed7953"
             ],
             [
              0.7777777777777778,
              "#fb9f3a"
             ],
             [
              0.8888888888888888,
              "#fdca26"
             ],
             [
              1,
              "#f0f921"
             ]
            ],
            "type": "contour"
           }
          ],
          "contourcarpet": [
           {
            "colorbar": {
             "outlinewidth": 0,
             "ticks": ""
            },
            "type": "contourcarpet"
           }
          ],
          "heatmap": [
           {
            "colorbar": {
             "outlinewidth": 0,
             "ticks": ""
            },
            "colorscale": [
             [
              0,
              "#0d0887"
             ],
             [
              0.1111111111111111,
              "#46039f"
             ],
             [
              0.2222222222222222,
              "#7201a8"
             ],
             [
              0.3333333333333333,
              "#9c179e"
             ],
             [
              0.4444444444444444,
              "#bd3786"
             ],
             [
              0.5555555555555556,
              "#d8576b"
             ],
             [
              0.6666666666666666,
              "#ed7953"
             ],
             [
              0.7777777777777778,
              "#fb9f3a"
             ],
             [
              0.8888888888888888,
              "#fdca26"
             ],
             [
              1,
              "#f0f921"
             ]
            ],
            "type": "heatmap"
           }
          ],
          "histogram": [
           {
            "marker": {
             "pattern": {
              "fillmode": "overlay",
              "size": 10,
              "solidity": 0.2
             }
            },
            "type": "histogram"
           }
          ],
          "histogram2d": [
           {
            "colorbar": {
             "outlinewidth": 0,
             "ticks": ""
            },
            "colorscale": [
             [
              0,
              "#0d0887"
             ],
             [
              0.1111111111111111,
              "#46039f"
             ],
             [
              0.2222222222222222,
              "#7201a8"
             ],
             [
              0.3333333333333333,
              "#9c179e"
             ],
             [
              0.4444444444444444,
              "#bd3786"
             ],
             [
              0.5555555555555556,
              "#d8576b"
             ],
             [
              0.6666666666666666,
              "#ed7953"
             ],
             [
              0.7777777777777778,
              "#fb9f3a"
             ],
             [
              0.8888888888888888,
              "#fdca26"
             ],
             [
              1,
              "#f0f921"
             ]
            ],
            "type": "histogram2d"
           }
          ],
          "histogram2dcontour": [
           {
            "colorbar": {
             "outlinewidth": 0,
             "ticks": ""
            },
            "colorscale": [
             [
              0,
              "#0d0887"
             ],
             [
              0.1111111111111111,
              "#46039f"
             ],
             [
              0.2222222222222222,
              "#7201a8"
             ],
             [
              0.3333333333333333,
              "#9c179e"
             ],
             [
              0.4444444444444444,
              "#bd3786"
             ],
             [
              0.5555555555555556,
              "#d8576b"
             ],
             [
              0.6666666666666666,
              "#ed7953"
             ],
             [
              0.7777777777777778,
              "#fb9f3a"
             ],
             [
              0.8888888888888888,
              "#fdca26"
             ],
             [
              1,
              "#f0f921"
             ]
            ],
            "type": "histogram2dcontour"
           }
          ],
          "mesh3d": [
           {
            "colorbar": {
             "outlinewidth": 0,
             "ticks": ""
            },
            "type": "mesh3d"
           }
          ],
          "parcoords": [
           {
            "line": {
             "colorbar": {
              "outlinewidth": 0,
              "ticks": ""
             }
            },
            "type": "parcoords"
           }
          ],
          "pie": [
           {
            "automargin": true,
            "type": "pie"
           }
          ],
          "scatter": [
           {
            "fillpattern": {
             "fillmode": "overlay",
             "size": 10,
             "solidity": 0.2
            },
            "type": "scatter"
           }
          ],
          "scatter3d": [
           {
            "line": {
             "colorbar": {
              "outlinewidth": 0,
              "ticks": ""
             }
            },
            "marker": {
             "colorbar": {
              "outlinewidth": 0,
              "ticks": ""
             }
            },
            "type": "scatter3d"
           }
          ],
          "scattercarpet": [
           {
            "marker": {
             "colorbar": {
              "outlinewidth": 0,
              "ticks": ""
             }
            },
            "type": "scattercarpet"
           }
          ],
          "scattergeo": [
           {
            "marker": {
             "colorbar": {
              "outlinewidth": 0,
              "ticks": ""
             }
            },
            "type": "scattergeo"
           }
          ],
          "scattergl": [
           {
            "marker": {
             "colorbar": {
              "outlinewidth": 0,
              "ticks": ""
             }
            },
            "type": "scattergl"
           }
          ],
          "scattermap": [
           {
            "marker": {
             "colorbar": {
              "outlinewidth": 0,
              "ticks": ""
             }
            },
            "type": "scattermap"
           }
          ],
          "scattermapbox": [
           {
            "marker": {
             "colorbar": {
              "outlinewidth": 0,
              "ticks": ""
             }
            },
            "type": "scattermapbox"
           }
          ],
          "scatterpolar": [
           {
            "marker": {
             "colorbar": {
              "outlinewidth": 0,
              "ticks": ""
             }
            },
            "type": "scatterpolar"
           }
          ],
          "scatterpolargl": [
           {
            "marker": {
             "colorbar": {
              "outlinewidth": 0,
              "ticks": ""
             }
            },
            "type": "scatterpolargl"
           }
          ],
          "scatterternary": [
           {
            "marker": {
             "colorbar": {
              "outlinewidth": 0,
              "ticks": ""
             }
            },
            "type": "scatterternary"
           }
          ],
          "surface": [
           {
            "colorbar": {
             "outlinewidth": 0,
             "ticks": ""
            },
            "colorscale": [
             [
              0,
              "#0d0887"
             ],
             [
              0.1111111111111111,
              "#46039f"
             ],
             [
              0.2222222222222222,
              "#7201a8"
             ],
             [
              0.3333333333333333,
              "#9c179e"
             ],
             [
              0.4444444444444444,
              "#bd3786"
             ],
             [
              0.5555555555555556,
              "#d8576b"
             ],
             [
              0.6666666666666666,
              "#ed7953"
             ],
             [
              0.7777777777777778,
              "#fb9f3a"
             ],
             [
              0.8888888888888888,
              "#fdca26"
             ],
             [
              1,
              "#f0f921"
             ]
            ],
            "type": "surface"
           }
          ],
          "table": [
           {
            "cells": {
             "fill": {
              "color": "#EBF0F8"
             },
             "line": {
              "color": "white"
             }
            },
            "header": {
             "fill": {
              "color": "#C8D4E3"
             },
             "line": {
              "color": "white"
             }
            },
            "type": "table"
           }
          ]
         },
         "layout": {
          "annotationdefaults": {
           "arrowcolor": "#2a3f5f",
           "arrowhead": 0,
           "arrowwidth": 1
          },
          "autotypenumbers": "strict",
          "coloraxis": {
           "colorbar": {
            "outlinewidth": 0,
            "ticks": ""
           }
          },
          "colorscale": {
           "diverging": [
            [
             0,
             "#8e0152"
            ],
            [
             0.1,
             "#c51b7d"
            ],
            [
             0.2,
             "#de77ae"
            ],
            [
             0.3,
             "#f1b6da"
            ],
            [
             0.4,
             "#fde0ef"
            ],
            [
             0.5,
             "#f7f7f7"
            ],
            [
             0.6,
             "#e6f5d0"
            ],
            [
             0.7,
             "#b8e186"
            ],
            [
             0.8,
             "#7fbc41"
            ],
            [
             0.9,
             "#4d9221"
            ],
            [
             1,
             "#276419"
            ]
           ],
           "sequential": [
            [
             0,
             "#0d0887"
            ],
            [
             0.1111111111111111,
             "#46039f"
            ],
            [
             0.2222222222222222,
             "#7201a8"
            ],
            [
             0.3333333333333333,
             "#9c179e"
            ],
            [
             0.4444444444444444,
             "#bd3786"
            ],
            [
             0.5555555555555556,
             "#d8576b"
            ],
            [
             0.6666666666666666,
             "#ed7953"
            ],
            [
             0.7777777777777778,
             "#fb9f3a"
            ],
            [
             0.8888888888888888,
             "#fdca26"
            ],
            [
             1,
             "#f0f921"
            ]
           ],
           "sequentialminus": [
            [
             0,
             "#0d0887"
            ],
            [
             0.1111111111111111,
             "#46039f"
            ],
            [
             0.2222222222222222,
             "#7201a8"
            ],
            [
             0.3333333333333333,
             "#9c179e"
            ],
            [
             0.4444444444444444,
             "#bd3786"
            ],
            [
             0.5555555555555556,
             "#d8576b"
            ],
            [
             0.6666666666666666,
             "#ed7953"
            ],
            [
             0.7777777777777778,
             "#fb9f3a"
            ],
            [
             0.8888888888888888,
             "#fdca26"
            ],
            [
             1,
             "#f0f921"
            ]
           ]
          },
          "colorway": [
           "#636efa",
           "#EF553B",
           "#00cc96",
           "#ab63fa",
           "#FFA15A",
           "#19d3f3",
           "#FF6692",
           "#B6E880",
           "#FF97FF",
           "#FECB52"
          ],
          "font": {
           "color": "#2a3f5f"
          },
          "geo": {
           "bgcolor": "white",
           "lakecolor": "white",
           "landcolor": "#E5ECF6",
           "showlakes": true,
           "showland": true,
           "subunitcolor": "white"
          },
          "hoverlabel": {
           "align": "left"
          },
          "hovermode": "closest",
          "mapbox": {
           "style": "light"
          },
          "paper_bgcolor": "white",
          "plot_bgcolor": "#E5ECF6",
          "polar": {
           "angularaxis": {
            "gridcolor": "white",
            "linecolor": "white",
            "ticks": ""
           },
           "bgcolor": "#E5ECF6",
           "radialaxis": {
            "gridcolor": "white",
            "linecolor": "white",
            "ticks": ""
           }
          },
          "scene": {
           "xaxis": {
            "backgroundcolor": "#E5ECF6",
            "gridcolor": "white",
            "gridwidth": 2,
            "linecolor": "white",
            "showbackground": true,
            "ticks": "",
            "zerolinecolor": "white"
           },
           "yaxis": {
            "backgroundcolor": "#E5ECF6",
            "gridcolor": "white",
            "gridwidth": 2,
            "linecolor": "white",
            "showbackground": true,
            "ticks": "",
            "zerolinecolor": "white"
           },
           "zaxis": {
            "backgroundcolor": "#E5ECF6",
            "gridcolor": "white",
            "gridwidth": 2,
            "linecolor": "white",
            "showbackground": true,
            "ticks": "",
            "zerolinecolor": "white"
           }
          },
          "shapedefaults": {
           "line": {
            "color": "#2a3f5f"
           }
          },
          "ternary": {
           "aaxis": {
            "gridcolor": "white",
            "linecolor": "white",
            "ticks": ""
           },
           "baxis": {
            "gridcolor": "white",
            "linecolor": "white",
            "ticks": ""
           },
           "bgcolor": "#E5ECF6",
           "caxis": {
            "gridcolor": "white",
            "linecolor": "white",
            "ticks": ""
           }
          },
          "title": {
           "x": 0.05
          },
          "xaxis": {
           "automargin": true,
           "gridcolor": "white",
           "linecolor": "white",
           "ticks": "",
           "title": {
            "standoff": 15
           },
           "zerolinecolor": "white",
           "zerolinewidth": 2
          },
          "yaxis": {
           "automargin": true,
           "gridcolor": "white",
           "linecolor": "white",
           "ticks": "",
           "title": {
            "standoff": 15
           },
           "zerolinecolor": "white",
           "zerolinewidth": 2
          }
         }
        },
        "title": {
         "text": "Query and Retrieved Chunks in 3D Embedding Space<br>Method: top_k | Retrieved: 5 chunks"
        },
        "width": 1000
       }
      },
      "image/png": "[encoded data removed]"
     },
     "metadata": {},
     "output_type": "display_data"
    },
    {
     "name": "stdout",
     "output_type": "stream",
     "text": [
      "\n",
      "💡 Rotate, zoom, and pan the 3D plot to explore!\n",
      "💡 The blue sphere shows the retrieval boundary\n",
      "💡 Green points inside the sphere are retrieved chunks\n"
     ]
    }
   ],
   "source": [
    "# Create 3D visualization\n",
    "NUM_CHUNKS_QUERY_3D = min(50, len(chunks))  # Modify if not using widgets\n",
    "\n",
    "plot_df = df.head(NUM_CHUNKS_QUERY_3D)\n",
    "\n",
    "# Separate retrieved and non-retrieved\n",
    "non_retrieved = plot_df[~plot_df['chunk_id'].isin(retrieved_ids)]\n",
    "retrieved = plot_df[plot_df['chunk_id'].isin(retrieved_ids)]\n",
    "\n",
    "# Create traces\n",
    "trace_non_retrieved = go.Scatter3d(\n",
    "    x=non_retrieved['umap_x_3d'],\n",
    "    y=non_retrieved['umap_y_3d'],\n",
    "    z=non_retrieved['umap_z_3d'],\n",
    "    mode='markers',\n",
    "    name='Not Retrieved',\n",
    "    marker=dict(size=4, color='lightgray', opacity=0.3),\n",
    "    text=[f\"Chunk {i}\" for i in non_retrieved['chunk_id']],\n",
    "    hoverinfo='text'\n",
    ")\n",
    "\n",
    "trace_retrieved = go.Scatter3d(\n",
    "    x=retrieved['umap_x_3d'],\n",
    "    y=retrieved['umap_y_3d'],\n",
    "    z=retrieved['umap_z_3d'],\n",
    "    mode='markers',\n",
    "    name='Retrieved',\n",
    "    marker=dict(size=8, color='limegreen', opacity=0.8, \n",
    "                line=dict(color='darkgreen', width=2)),\n",
    "    text=[f\"Chunk {i}: {text[:100]}...\" for i, text in zip(retrieved['chunk_id'], retrieved['text'])],\n",
    "    hoverinfo='text'\n",
    ")\n",
    "\n",
    "trace_query = go.Scatter3d(\n",
    "    x=[query_3d[0]],\n",
    "    y=[query_3d[1]],\n",
    "    z=[query_3d[2]],\n",
    "    mode='markers',\n",
    "    name='Query',\n",
    "    marker=dict(size=15, color='red', symbol='diamond',\n",
    "                line=dict(color='darkred', width=2)),\n",
    "    text=[f\"Query: {query}\"],\n",
    "    hoverinfo='text'\n",
    ")\n",
    "\n",
    "# Create sphere surface\n",
    "u = np.linspace(0, 2 * np.pi, 50)\n",
    "v = np.linspace(0, np.pi, 50)\n",
    "x_sphere = radius_3d * np.outer(np.cos(u), np.sin(v)) + query_3d[0]\n",
    "y_sphere = radius_3d * np.outer(np.sin(u), np.sin(v)) + query_3d[1]\n",
    "z_sphere = radius_3d * np.outer(np.ones(np.size(u)), np.cos(v)) + query_3d[2]\n",
    "\n",
    "trace_sphere = go.Surface(\n",
    "    x=x_sphere,\n",
    "    y=y_sphere,\n",
    "    z=z_sphere,\n",
    "    name='Retrieval Boundary',\n",
    "    colorscale=[[0, 'lightblue'], [1, 'lightblue']],\n",
    "    opacity=0.2,\n",
    "    showscale=False,\n",
    "    hoverinfo='skip'\n",
    ")\n",
    "\n",
    "# Create figure\n",
    "fig = go.Figure(data=[trace_non_retrieved, trace_retrieved, trace_query, trace_sphere])\n",
    "\n",
    "fig.update_layout(\n",
    "    title=f'Query and Retrieved Chunks in 3D Embedding Space<br>' + \n",
    "          f'Method: {RETRIEVAL_METHOD} | Retrieved: {len(retrieved_ids)} chunks',\n",
    "    scene=dict(\n",
    "        xaxis_title='UMAP Dimension 1',\n",
    "        yaxis_title='UMAP Dimension 2',\n",
    "        zaxis_title='UMAP Dimension 3',\n",
    "        aspectmode='data'\n",
    "    ),\n",
    "    width=1000,\n",
    "    height=800\n",
    ")\n",
    "\n",
    "fig.show()\n",
    "\n",
    "print(\"\\n💡 Rotate, zoom, and pan the 3D plot to explore!\")\n",
    "print(\"💡 The blue sphere shows the retrieval boundary\")\n",
    "print(\"💡 Green points inside the sphere are retrieved chunks\")"
   ]
  },
  {
   "cell_type": "markdown",
   "metadata": {},
   "source": [
    "### Interpretation\n",
    "\n",
    "**What do these visualizations tell us?**\n",
    "\n",
    "1. **Circle/Sphere Radius**: Shows the similarity boundary for retrieval\n",
    "   - With **top-k**: Radius changes based on the k-th most similar chunk\n",
    "   - With **threshold**: Radius represents a fixed similarity cutoff\n",
    "   - With **combined**: Uses the more restrictive boundary\n",
    "\n",
    "2. **Retrieved Chunks (Green)**: These chunks fall within the retrieval boundary\n",
    "   - Closest to the query in semantic space\n",
    "   - Most relevant to answering the query\n",
    "\n",
    "3. **Non-Retrieved Chunks (Gray)**: Outside the boundary\n",
    "   - Less semantically similar to the query\n",
    "   - Not included in the context for generation\n",
    "\n",
    "**Discussion Questions:**\n",
    "- When would you prefer **top-k** vs **threshold**?\n",
    "  - Top-k: When you need a fixed number of results (e.g., limited context window)\n",
    "  - Threshold: When quality matters more than quantity\n",
    "- What happens if the threshold is too high? Too low?\n",
    "  - Too high: May retrieve nothing\n",
    "  - Too low: May retrieve irrelevant chunks\n",
    "- How does chunk size affect retrieval?\n",
    "  - Smaller chunks: More precise but may lack context\n",
    "  - Larger chunks: More context but less precise"
   ]
  },
  {
   "cell_type": "markdown",
   "metadata": {},
   "source": [
    "---\n",
    "## Section 7: Prompt Construction & RAG Pipeline\n",
    "\n",
    "Now we'll construct a complete prompt that combines our query with the retrieved chunks. This prompt would typically be sent to an LLM (like GPT-4 or Claude) to generate a grounded response.\n",
    "\n",
    "### How Retrieved Context Augments Generation\n",
    "\n",
    "The LLM receives:\n",
    "1. **System instructions**: How to behave and use the context\n",
    "2. **Retrieved chunks**: Relevant information from our document\n",
    "3. **User query**: The original question\n",
    "\n",
    "This allows the LLM to:\n",
    "- Answer based on specific, provided information\n",
    "- Avoid hallucinating facts\n",
    "- Cite sources (chunk IDs)\n",
    "- Stay grounded in the document\n",
    "\n",
    "### Prompt Template Structure\n",
    "\n",
    "We'll use a modular template that you can customize:"
   ]
  },
  {
   "cell_type": "code",
   "execution_count": 32,
   "metadata": {},
   "outputs": [
    {
     "name": "stdout",
     "output_type": "stream",
     "text": [
      "Default Prompt Template:\n",
      "================================================================================\n",
      "\n",
      "[SYSTEM_PREAMBLE]\n",
      "You are an expert economics tutor helping students understand economic concepts.\n",
      "\n",
      "[INSTRUCTION_1]\n",
      "Use the following excerpts from an economics textbook to answer the student's question. Only use information from these excerpts.\n",
      "\n",
      "[INSTRUCTION_2]\n",
      "Provide a clear, concise answer that directly addresses the question. If the excerpts don't contain enough information, say so.\n",
      "\n",
      "================================================================================\n"
     ]
    }
   ],
   "source": [
    "# Default prompt templates for each document type\n",
    "DEFAULT_TEMPLATES = {\n",
    "    \"Economic Context\": {\n",
    "        \"preamble\": \"You are an expert economics tutor helping students understand economic concepts.\",\n",
    "        \"instruction_1\": \"Use the following excerpts from an economics textbook to answer the student's question. Only use information from these excerpts.\",\n",
    "        \"instruction_2\": \"Provide a clear, concise answer that directly addresses the question. If the excerpts don't contain enough information, say so.\"\n",
    "    },\n",
    "    \"Literary Context\": {\n",
    "        \"preamble\": \"You are a literature professor helping students analyze literary concepts and techniques.\",\n",
    "        \"instruction_1\": \"Use the following excerpts from a literature textbook to answer the student's question. Base your response only on these excerpts.\",\n",
    "        \"instruction_2\": \"Explain the concept clearly with examples from the provided text. If the excerpts are insufficient, acknowledge this.\"\n",
    "    },\n",
    "    \"Philosophy Context\": {\n",
    "        \"preamble\": \"You are a philosophy instructor helping students understand philosophical concepts and arguments.\",\n",
    "        \"instruction_1\": \"Use the following excerpts from a philosophy textbook to answer the student's question. Ground your response in these excerpts.\",\n",
    "        \"instruction_2\": \"Provide a thoughtful explanation that addresses the philosophical question. If the excerpts lack necessary information, indicate this.\"\n",
    "    }\n",
    "}\n",
    "\n",
    "# Get default template for selected document\n",
    "template = DEFAULT_TEMPLATES[SELECTED_DOCUMENT]\n",
    "\n",
    "print(\"Default Prompt Template:\")\n",
    "print(\"=\"*80)\n",
    "print(f\"\\n[SYSTEM_PREAMBLE]\\n{template['preamble']}\")\n",
    "print(f\"\\n[INSTRUCTION_1]\\n{template['instruction_1']}\")\n",
    "print(f\"\\n[INSTRUCTION_2]\\n{template['instruction_2']}\")\n",
    "print(\"\\n\" + \"=\"*80)"
   ]
  },
  {
   "cell_type": "code",
   "execution_count": 33,
   "metadata": {},
   "outputs": [
    {
     "name": "stdout",
     "output_type": "stream",
     "text": [
      "Customize the prompt template below:\n"
     ]
    },
    {
     "data": {
      "application/vnd.jupyter.widget-view+json": {
       "model_id": "29fac6461b654ae5983d3f73fc1cf506",
       "version_major": 2,
       "version_minor": 0
      },
      "text/plain": [
       "Textarea(value='You are an expert economics tutor helping students understand economic concepts.', description…"
      ]
     },
     "metadata": {},
     "output_type": "display_data"
    },
    {
     "data": {
      "application/vnd.jupyter.widget-view+json": {
       "model_id": "c00f58f59a244162808800314eecee51",
       "version_major": 2,
       "version_minor": 0
      },
      "text/plain": [
       "Textarea(value=\"Use the following excerpts from an economics textbook to answer the student's question. Only u…"
      ]
     },
     "metadata": {},
     "output_type": "display_data"
    },
    {
     "data": {
      "application/vnd.jupyter.widget-view+json": {
       "model_id": "4daa861c67bb4e43ac7df3acaf52400f",
       "version_major": 2,
       "version_minor": 0
      },
      "text/plain": [
       "Textarea(value=\"Provide a clear, concise answer that directly addresses the question. If the excerpts don't co…"
      ]
     },
     "metadata": {},
     "output_type": "display_data"
    },
    {
     "name": "stdout",
     "output_type": "stream",
     "text": [
      "\n",
      "💡 Modify the templates above, then run the next cell to build the full prompt\n"
     ]
    }
   ],
   "source": [
    "# OPTION 1: Interactive with ipywidgets\n",
    "if WIDGETS_AVAILABLE:\n",
    "    preamble_widget = widgets.Textarea(\n",
    "        value=template['preamble'],\n",
    "        description='Preamble:',\n",
    "        layout=widgets.Layout(width='90%', height='60px')\n",
    "    )\n",
    "    instruction1_widget = widgets.Textarea(\n",
    "        value=template['instruction_1'],\n",
    "        description='Instruction 1:',\n",
    "        layout=widgets.Layout(width='90%', height='80px')\n",
    "    )\n",
    "    instruction2_widget = widgets.Textarea(\n",
    "        value=template['instruction_2'],\n",
    "        description='Instruction 2:',\n",
    "        layout=widgets.Layout(width='90%', height='80px')\n",
    "    )\n",
    "    \n",
    "    print(\"Customize the prompt template below:\")\n",
    "    display(preamble_widget)\n",
    "    display(instruction1_widget)\n",
    "    display(instruction2_widget)\n",
    "    print(\"\\n💡 Modify the templates above, then run the next cell to build the full prompt\")\n",
    "else:\n",
    "    # OPTION 2: Simple version\n",
    "    PREAMBLE = template['preamble']\n",
    "    INSTRUCTION_1 = template['instruction_1']\n",
    "    INSTRUCTION_2 = template['instruction_2']\n",
    "    \n",
    "    print(\"💡 To customize the prompt, modify PREAMBLE, INSTRUCTION_1, and INSTRUCTION_2 above\")"
   ]
  },
  {
   "cell_type": "code",
   "execution_count": 34,
   "metadata": {},
   "outputs": [
    {
     "name": "stdout",
     "output_type": "stream",
     "text": [
      "Full RAG Prompt:\n",
      "================================================================================\n",
      "[SYSTEM PREAMBLE]\n",
      "You are an expert economics tutor helping students understand economic concepts.\n",
      "\n",
      "[INSTRUCTION]\n",
      "Use the following excerpts from an economics textbook to answer the student's question. Only use information from these excerpts.\n",
      "\n",
      "[RETRIEVED CONTEXT]\n",
      "\n",
      "--- Excerpt 1 (Similarity: 0.7450) ---\n",
      "consumers, firms, and workers. It examines how these agents make decisions about the allocation of resources and how these decisions interact in markets. The concept of supply and demand is central to microeconomic analysis. Supply represents the quantity of a good or service that producers are willing to sell at various prices, while demand represents the quantity that consumers are willing to buy. The intersection of supply and demand curves determines the equilibrium price and quantity in a m\n",
      "\n",
      "--- Excerpt 4 (Similarity: 0.5863) ---\n",
      "duction levels and variable costs that do. Understanding these cost structures is crucial for analyzing firm behavior and market outcomes.\n",
      "\n",
      "Market structures vary significantly, from perfect competition to monopoly, with oligopoly and monopolistic competition in between. In perfectly competitive markets, numerous small firms produce identical products, and no single firm can influence the market price. Monopolies, conversely, feature a single seller with significant market power to set prices. T\n",
      "\n",
      "--- Excerpt 3 (Similarity: 0.4559) ---\n",
      " consuming one more unit decreases. This principle has important implications for understanding demand curves and consumer choices.\n",
      "\n",
      "On the production side, firms operate to maximize profits by choosing the optimal combination of inputs to produce outputs. Production functions describe the relationship between inputs like labor and capital and the resulting output. Firms face various cost structures, including fixed costs that don't vary with production levels and variable costs that do. Underst\n",
      "\n",
      "--- Excerpt 2 (Similarity: 0.4350) ---\n",
      "termines the equilibrium price and quantity in a market.\n",
      "\n",
      "Consumer behavior is analyzed through the lens of utility theory, which posits that consumers seek to maximize their satisfaction or utility subject to their budget constraints. This framework helps explain how consumers make choices among different goods and services. The law of diminishing marginal utility suggests that as consumption of a good increases, the additional satisfaction from consuming one more unit decreases. This principle\n",
      "\n",
      "--- Excerpt 13 (Similarity: 0.4006) ---\n",
      "to reduce barriers like tariffs and quotas, facilitating greater international commerce. However, trade can create winners and losers within countries, leading to political debates about trade policy.\n",
      "\n",
      "Exchange rates, the prices at which currencies trade, play a crucial role in international economics. Floating exchange rates are determined by supply and demand in foreign exchange markets, while fixed exchange rates are maintained by government interventions. Exchange rate movements affect inter\n",
      "\n",
      "\n",
      "[INSTRUCTION]\n",
      "Provide a clear, concise answer that directly addresses the question. If the excerpts don't contain enough information, say so.\n",
      "\n",
      "[USER QUERY]\n",
      "How do supply and demand determine market prices?\n",
      "\n",
      "================================================================================\n",
      "\n",
      "Prompt Statistics:\n",
      "  Characters: 3,179\n",
      "  Estimated tokens: ~794\n",
      "  Retrieved chunks: 5\n",
      "  Retrieval method: top_k\n"
     ]
    }
   ],
   "source": [
    "# Get prompt components\n",
    "if WIDGETS_AVAILABLE:\n",
    "    preamble = preamble_widget.value\n",
    "    instruction_1 = instruction1_widget.value\n",
    "    instruction_2 = instruction2_widget.value\n",
    "else:\n",
    "    preamble = PREAMBLE\n",
    "    instruction_1 = INSTRUCTION_1\n",
    "    instruction_2 = INSTRUCTION_2\n",
    "\n",
    "# Use the combined results (or whichever method you prefer)\n",
    "results_to_use = combined_results if len(combined_results) > 0 else top_k_results\n",
    "\n",
    "# Format retrieved chunks\n",
    "retrieved_context = \"\"\n",
    "for idx, row in results_to_use.iterrows():\n",
    "    retrieved_context += f\"\\n--- Excerpt {row['chunk_id']} (Similarity: {row['similarity']:.4f}) ---\\n\"\n",
    "    retrieved_context += row['text']\n",
    "    retrieved_context += \"\\n\"\n",
    "\n",
    "# Construct full prompt\n",
    "full_prompt = f\"\"\"[SYSTEM PREAMBLE]\n",
    "{preamble}\n",
    "\n",
    "[INSTRUCTION]\n",
    "{instruction_1}\n",
    "\n",
    "[RETRIEVED CONTEXT]\n",
    "{retrieved_context}\n",
    "\n",
    "[INSTRUCTION]\n",
    "{instruction_2}\n",
    "\n",
    "[USER QUERY]\n",
    "{query}\n",
    "\"\"\"\n",
    "\n",
    "# Display the full prompt\n",
    "print(\"Full RAG Prompt:\")\n",
    "print(\"=\"*80)\n",
    "print(full_prompt)\n",
    "print(\"=\"*80)\n",
    "\n",
    "# Calculate token count (rough estimate: 1 token ≈ 4 characters)\n",
    "estimated_tokens = len(full_prompt) // 4\n",
    "print(f\"\\nPrompt Statistics:\")\n",
    "print(f\"  Characters: {len(full_prompt):,}\")\n",
    "print(f\"  Estimated tokens: ~{estimated_tokens:,}\")\n",
    "print(f\"  Retrieved chunks: {len(results_to_use)}\")\n",
    "print(f\"  Retrieval method: {RETRIEVAL_METHOD}\")"
   ]
  },
  {
   "cell_type": "markdown",
   "metadata": {},
   "source": [
    "### Mathematical/Technical Note: Token Counting and Context Windows\n",
    "\n",
    "**Token Counting**:\n",
    "- Tokens are the units LLMs process\n",
    "- Rough estimate: 1 token ≈ 0.75 words ≈ 4 characters (for English)\n",
    "- Actual tokenization varies by model\n",
    "\n",
    "**Context Windows** (as of 2024):\n",
    "- GPT-4: 8k-128k tokens depending on variant\n",
    "- Claude: 200k tokens\n",
    "- Gemini: 1M+ tokens\n",
    "\n",
    "**Prompt Engineering Considerations**:\n",
    "1. **Context Length**: Balance between including enough context and staying within limits\n",
    "2. **Chunk Order**: Most relevant chunks first (LLMs can suffer from \"lost in the middle\")\n",
    "3. **Instruction Clarity**: Clear instructions improve response quality\n",
    "4. **Format Consistency**: Structured prompts help LLMs parse information\n",
    "\n",
    "**What Happens Next** (not shown in this notebook):\n",
    "1. This prompt would be sent to an LLM API (e.g., OpenAI, Anthropic)\n",
    "2. The LLM generates a response based on the retrieved context\n",
    "3. The response is grounded in your document, reducing hallucinations\n",
    "\n",
    "**Example API call** (pseudocode):\n",
    "```python\n",
    "response = llm_api.generate(\n",
    "    prompt=full_prompt,\n",
    "    max_tokens=500,\n",
    "    temperature=0.7\n",
    ")\n",
    "```"
   ]
  },
  {
   "cell_type": "markdown",
   "metadata": {},
   "source": [
    "---\n",
    "## Section 8: Experimentation & Analysis\n",
    "\n",
    "Now that you understand the complete RAG pipeline, let's experiment with different configurations to see how they affect results.\n",
    "\n",
    "### Guided Experiments\n",
    "\n",
    "Try these experiments and observe the differences:"
   ]
  },
  {
   "cell_type": "markdown",
   "metadata": {},
   "source": [
    "### Experiment 1: Different Chunk Sizes\n",
    "\n",
    "**Hypothesis**: Chunk size affects retrieval precision and context quality.\n",
    "\n",
    "**Instructions**:\n",
    "1. Go back to Section 2\n",
    "2. Try `CHUNK_SIZE=200` vs `CHUNK_SIZE=1000`\n",
    "3. Re-run all subsequent cells\n",
    "4. Compare retrieved chunks and their relevance\n",
    "\n",
    "**Questions to consider**:\n",
    "- Do smaller chunks retrieve more precise information?\n",
    "- Do larger chunks provide better context?\n",
    "- How does chunk size affect the number of chunks created?"
   ]
  },
  {
   "cell_type": "markdown",
   "metadata": {},
   "source": [
    "### Experiment 2: Top-K vs Threshold\n",
    "\n",
    "**Hypothesis**: Different retrieval methods suit different scenarios.\n",
    "\n",
    "**Instructions**:\n",
    "1. Go to Section 6\n",
    "2. Try `TOP_K=3` vs `TOP_K=10`\n",
    "3. Try `SIMILARITY_THRESHOLD=0.2` vs `SIMILARITY_THRESHOLD=0.5`\n",
    "4. Observe which chunks are retrieved\n",
    "\n",
    "**Questions to consider**:\n",
    "- When would you want fewer, high-quality chunks?\n",
    "- When would you want more chunks for comprehensive coverage?\n",
    "- How does threshold affect the number of retrieved chunks?"
   ]
  },
  {
   "cell_type": "markdown",
   "metadata": {},
   "source": [
    "### Experiment 3: Different Embedding Models\n",
    "\n",
    "**Hypothesis**: Higher-quality models produce better embeddings.\n",
    "\n",
    "**Instructions**:\n",
    "1. Go to Configuration Section\n",
    "2. Change `MODEL_NAME` from `\"all-MiniLM-L6-v2\"` to `\"all-mpnet-base-v2\"`\n",
    "3. Re-run from Section 3 onwards\n",
    "4. Compare retrieval results and similarities\n",
    "\n",
    "**Questions to consider**:\n",
    "- Are similarity scores higher or lower?\n",
    "- Are the retrieved chunks more relevant?\n",
    "- Is the speed difference noticeable?"
   ]
  },
  {
   "cell_type": "markdown",
   "metadata": {},
   "source": [
    "### Experiment 4: Different Queries\n",
    "\n",
    "**Hypothesis**: Query specificity affects retrieval quality.\n",
    "\n",
    "**Instructions**:\n",
    "1. Try a vague query: \"Tell me about economics\"\n",
    "2. Try a specific query: \"What is the difference between frictional and structural unemployment?\"\n",
    "3. Compare retrieved chunks\n",
    "\n",
    "**Questions to consider**:\n",
    "- Do specific queries retrieve more focused chunks?\n",
    "- Do vague queries return diverse but less relevant results?\n",
    "- How should you phrase queries for best results?"
   ]
  },
  {
   "cell_type": "markdown",
   "metadata": {},
   "source": [
    "### Experiment 5: Different Documents\n",
    "\n",
    "**Hypothesis**: Document type affects embedding distributions.\n",
    "\n",
    "**Instructions**:\n",
    "1. Go to Section 1\n",
    "2. Change `SELECTED_DOCUMENT` to a different document\n",
    "3. Re-run all cells with a relevant query\n",
    "4. Compare similarity distributions and embeddings\n",
    "\n",
    "**Questions to consider**:\n",
    "- Does the literary document show different patterns than philosophy?\n",
    "- Are some documents more homogeneous than others?\n",
    "- How does document structure affect chunking?"
   ]
  },
  {
   "cell_type": "code",
   "execution_count": 35,
   "metadata": {},
   "outputs": [
    {
     "name": "stdout",
     "output_type": "stream",
     "text": [
      "Experimental Log\n",
      "================================================================================\n",
      "\n",
      "Current Configuration:\n",
      "  Document: Economic Context\n",
      "  Model: all-MiniLM-L6-v2\n",
      "  Chunk size: 500\n",
      "  Overlap: 50\n",
      "  Total chunks: 22\n",
      "  Query: How do supply and demand determine market prices?\n",
      "  Top-K: 5\n",
      "  Threshold: 0.3\n",
      "  Retrieved: 5 chunks\n",
      "\n",
      "Average similarity: 0.2870\n",
      "Max similarity: 0.7450\n",
      "Min similarity: 0.0447\n",
      "\n",
      "================================================================================\n",
      "\n",
      "📝 Add your observations here:\n",
      "- What worked well?\n",
      "- What could be improved?\n",
      "- What surprised you?\n"
     ]
    }
   ],
   "source": [
    "# Use this cell to document your experimental findings\n",
    "\n",
    "print(\"Experimental Log\")\n",
    "print(\"=\"*80)\n",
    "print(f\"\\nCurrent Configuration:\")\n",
    "print(f\"  Document: {SELECTED_DOCUMENT}\")\n",
    "print(f\"  Model: {MODEL_NAME}\")\n",
    "print(f\"  Chunk size: {CHUNK_SIZE}\")\n",
    "print(f\"  Overlap: {OVERLAP}\")\n",
    "print(f\"  Total chunks: {len(chunks)}\")\n",
    "print(f\"  Query: {query}\")\n",
    "print(f\"  Top-K: {TOP_K}\")\n",
    "print(f\"  Threshold: {SIMILARITY_THRESHOLD}\")\n",
    "print(f\"  Retrieved: {len(results_to_use)} chunks\")\n",
    "print(f\"\\nAverage similarity: {df['similarity'].mean():.4f}\")\n",
    "print(f\"Max similarity: {df['similarity'].max():.4f}\")\n",
    "print(f\"Min similarity: {df['similarity'].min():.4f}\")\n",
    "\n",
    "print(\"\\n\" + \"=\"*80)\n",
    "print(\"\\n📝 Add your observations here:\")\n",
    "print(\"- What worked well?\")\n",
    "print(\"- What could be improved?\")\n",
    "print(\"- What surprised you?\")"
   ]
  },
  {
   "cell_type": "markdown",
   "metadata": {},
   "source": [
    "---\n",
    "## Conclusion\n",
    "\n",
    "Congratulations! You've built a complete RAG system from scratch. Let's recap what you've learned:\n",
    "\n",
    "### Key Takeaways\n",
    "\n",
    "1. **Chunking Strategy Matters**\n",
    "   - Chunk size affects precision vs context trade-off\n",
    "   - Overlap prevents information loss at boundaries\n",
    "   - Different documents may need different chunking strategies\n",
    "\n",
    "2. **Embeddings Capture Semantics**\n",
    "   - High-dimensional vectors represent meaning\n",
    "   - Similar content clusters together in embedding space\n",
    "   - Model choice affects embedding quality\n",
    "\n",
    "3. **Retrieval Methods Have Trade-offs**\n",
    "   - **Top-K**: Guarantees fixed results, may include irrelevant chunks\n",
    "   - **Threshold**: Ensures quality, variable result count\n",
    "   - **Combined**: Best of both worlds\n",
    "\n",
    "4. **Visualization Aids Understanding**\n",
    "   - UMAP reveals structure in embedding space\n",
    "   - Similarity distributions show chunk relationships\n",
    "   - Query visualization shows retrieval boundaries\n",
    "\n",
    "5. **Prompt Engineering is Critical**\n",
    "   - Clear instructions improve LLM responses\n",
    "   - Retrieved context grounds generation\n",
    "   - Token limits constrain how much context you can include\n",
    "\n",
    "### Limitations of This Implementation\n",
    "\n",
    "1. **Simple Chunking**: We used character-based chunking\n",
    "   - Better: Semantic chunking (split at sentence/paragraph boundaries)\n",
    "   - Better: Recursive chunking (hierarchical structures)\n",
    "\n",
    "2. **No Reranking**: We used only embedding similarity\n",
    "   - Better: Cross-encoder reranking for top candidates\n",
    "   - Better: Hybrid search (embeddings + keyword matching)\n",
    "\n",
    "3. **DataFrame Storage**: Not scalable beyond 10k chunks\n",
    "   - Better: Vector databases (Pinecone, Weaviate, Chroma)\n",
    "   - Better: Optimized indexing (HNSW, IVF)\n",
    "\n",
    "4. **Single Retrieval Pass**: We retrieve once per query\n",
    "   - Better: Iterative retrieval (retrieve, evaluate, retrieve more)\n",
    "   - Better: Multi-hop reasoning (chain of retrievals)\n",
    "\n",
    "5. **No Metadata**: We only stored text and embeddings\n",
    "   - Better: Include source, date, author, section\n",
    "   - Better: Enable metadata filtering\n",
    "\n",
    "### Advanced Topics for Further Exploration\n",
    "\n",
    "#### 1. Vector Databases\n",
    "- **Pinecone**: Managed, easy to use, excellent documentation\n",
    "- **Weaviate**: Open-source, GraphQL API, schema-based\n",
    "- **Chroma**: Lightweight, embedded, great for prototyping\n",
    "- **Qdrant**: High-performance, advanced filtering, Rust-based\n",
    "- **Milvus**: Scalable to billions of vectors, cloud-native\n",
    "- **FAISS**: Facebook's library, great for research and experimentation\n",
    "\n",
    "#### 2. Reranking Models\n",
    "- **Cross-encoders**: Process query and passage together\n",
    "  - Example: `cross-encoder/ms-marco-MiniLM-L-6-v2`\n",
    "  - More accurate but slower (~100x than bi-encoders)\n",
    "- **Commercial APIs**: Cohere Rerank, Voyage AI\n",
    "- **Two-stage pipeline**: Fast retrieval → Accurate reranking\n",
    "\n",
    "#### 3. Advanced Retrieval Techniques\n",
    "- **HyDE (Hypothetical Document Embeddings)**:\n",
    "  - LLM generates hypothetical answer to query\n",
    "  - Embed and use for retrieval\n",
    "  - Often more effective than embedding the query directly\n",
    "\n",
    "- **Multi-Query Retrieval**:\n",
    "  - Generate multiple variations of the query\n",
    "  - Retrieve with each variation\n",
    "  - Combine results for better coverage\n",
    "\n",
    "- **Recursive Retrieval**:\n",
    "  - Retrieve initial chunks\n",
    "  - Expand to surrounding context\n",
    "  - Or retrieve parent documents\n",
    "\n",
    "#### 4. Semantic Chunking Strategies\n",
    "- **Sentence-based**: Split at sentence boundaries\n",
    "- **Paragraph-based**: Respect document structure\n",
    "- **Semantic similarity**: Group semantically similar sentences\n",
    "- **Sliding window with embeddings**: Determine boundaries using similarity drops\n",
    "\n",
    "#### 5. Hybrid Search\n",
    "- **Combine keyword and semantic search**:\n",
    "  - BM25 for keyword matching\n",
    "  - Embeddings for semantic similarity\n",
    "  - Weighted combination (e.g., 0.7 semantic + 0.3 keyword)\n",
    "- **Best of both worlds**: Precise matches + semantic understanding\n",
    "\n",
    "#### 6. Metadata Filtering\n",
    "- **Pre-filtering**: Filter before similarity search\n",
    "  - \"Find chunks from 2023 about climate policy\"\n",
    "  - Reduces search space\n",
    "- **Post-filtering**: Filter after retrieval\n",
    "  - More flexible but potentially less efficient\n",
    "- **Combined approach**: Best for complex queries\n",
    "\n",
    "#### 7. Query Enhancement\n",
    "- **Query expansion**: Add synonyms and related terms\n",
    "- **Query reformulation**: Rephrase for better matching\n",
    "- **Contextualization**: Add conversation history to query\n",
    "\n",
    "#### 8. Evaluation Metrics\n",
    "- **Retrieval Quality**:\n",
    "  - Precision@K: What fraction of top-K are relevant?\n",
    "  - Recall@K: What fraction of relevant docs in top-K?\n",
    "  - MRR (Mean Reciprocal Rank): Rank of first relevant result\n",
    "  - NDCG (Normalized Discounted Cumulative Gain): Ranked quality\n",
    "\n",
    "- **End-to-End Quality**:\n",
    "  - Faithfulness: Is the answer grounded in context?\n",
    "  - Relevance: Does the answer address the query?\n",
    "  - Completeness: Does it cover all aspects?\n",
    "\n",
    "### Resources for Further Learning\n",
    "\n",
    "#### Documentation & Tutorials\n",
    "- **Sentence Transformers**: https://www.sbert.net/\n",
    "- **LangChain RAG Guide**: https://python.langchain.com/docs/use_cases/question_answering/\n",
    "- **LlamaIndex**: https://docs.llamaindex.ai/\n",
    "- **Pinecone Learning Center**: https://www.pinecone.io/learn/\n",
    "- **Weaviate Documentation**: https://weaviate.io/developers/weaviate\n",
    "\n",
    "#### Research Papers\n",
    "- **RAG**: \"Retrieval-Augmented Generation for Knowledge-Intensive NLP Tasks\" (Lewis et al., 2020)\n",
    "- **Dense Passage Retrieval**: \"Dense Passage Retrieval for Open-Domain Question Answering\" (Karpukhin et al., 2020)\n",
    "- **ColBERT**: \"ColBERT: Efficient and Effective Passage Search via Contextualized Late Interaction over BERT\" (Khattab & Zaharia, 2020)\n",
    "- **RETRO**: \"Improving language models by retrieving from trillions of tokens\" (Borgeaud et al., 2022)\n",
    "\n",
    "#### Courses & Videos\n",
    "- **DeepLearning.AI**: \"Building and Evaluating Advanced RAG Applications\"\n",
    "- **Weights & Biases**: RAG tutorials and best practices\n",
    "- **YouTube**: Search for \"RAG tutorial\" or \"vector database tutorial\"\n",
    "\n",
    "#### Communities\n",
    "- **LangChain Discord**: Active community for RAG development\n",
    "- **Hugging Face Forums**: Discussion on embeddings and retrieval\n",
    "- **r/LocalLLaMA**: Reddit community for local LLM deployment\n",
    "\n",
    "### Final Thoughts\n",
    "\n",
    "RAG is a powerful technique that bridges the gap between LLMs' general knowledge and specific, up-to-date information. As you've seen, building a basic RAG system is straightforward, but optimizing it for production involves many considerations:\n",
    "\n",
    "- **Chunking**: How you split documents affects everything downstream\n",
    "- **Embeddings**: Better models = better retrieval\n",
    "- **Retrieval**: Multiple strategies for different use cases\n",
    "- **Reranking**: Improves quality at the cost of speed\n",
    "- **Prompting**: Clear instructions guide LLM generation\n",
    "\n",
    "The field is rapidly evolving, with new techniques emerging regularly. The foundations you've learned here—embeddings, similarity search, and prompt construction—will remain relevant as the ecosystem advances.\n",
    "\n",
    "**What's next?**\n",
    "1. Try this notebook with your own documents\n",
    "2. Experiment with different embedding models\n",
    "3. Explore vector databases for larger datasets\n",
    "4. Integrate with actual LLM APIs to see generation\n",
    "5. Implement evaluation metrics to measure quality\n",
    "\n",
    "Good luck with your RAG journey! 🚀"
   ]
  },
  {
   "cell_type": "markdown",
   "metadata": {},
   "source": [
    "---\n",
    "## Appendix: Quick Reference\n",
    "\n",
    "### Key Variables to Modify\n",
    "\n",
    "| Variable | Location | Purpose | Typical Range |\n",
    "|----------|----------|---------|---------------|\n",
    "| `MODEL_NAME` | Configuration | Embedding model | \"all-MiniLM-L6-v2\" or \"all-mpnet-base-v2\" |\n",
    "| `SELECTED_DOCUMENT` | Section 1 | Choose document | \"Economic Context\", \"Literary Context\", \"Philosophy Context\" |\n",
    "| `CHUNK_SIZE` | Section 2 | Characters per chunk | 200-1000 |\n",
    "| `OVERLAP` | Section 2 | Chunk overlap | 0-200 |\n",
    "| `QUERY` | Section 5 | Your question | Any string |\n",
    "| `TOP_K` | Section 6 | Number of chunks | 1-20 |\n",
    "| `SIMILARITY_THRESHOLD` | Section 6 | Minimum similarity | 0.0-1.0 |\n",
    "| `RETRIEVAL_METHOD` | Section 6.1 | Retrieval strategy | \"top_k\", \"threshold\", \"combined\" |\n",
    "\n",
    "### Common Commands\n",
    "\n",
    "```python\n",
    "# Re-chunk with different parameters\n",
    "chunks = chunk_document(document, chunk_size=300, overlap=30)\n",
    "\n",
    "# Re-embed with different model\n",
    "model = SentenceTransformer(\"all-mpnet-base-v2\")\n",
    "embeddings = model.encode(chunks, convert_to_numpy=True)\n",
    "\n",
    "# Query with new text\n",
    "query = \"Your new question here\"\n",
    "query_embedding = model.encode(query, convert_to_numpy=True)\n",
    "similarities = util.cos_sim(query_embedding, embeddings)[0].numpy()\n",
    "\n",
    "# Retrieve top results\n",
    "df['similarity'] = similarities\n",
    "results = df.nlargest(5, 'similarity')\n",
    "```\n",
    "\n",
    "### Troubleshooting\n",
    "\n",
    "**Out of memory during UMAP:**\n",
    "```python\n",
    "# Reduce number of chunks to visualize\n",
    "sample_size = 30  # Instead of 50+\n",
    "```\n",
    "\n",
    "**Embeddings too slow:**\n",
    "```python\n",
    "# Use smaller model\n",
    "MODEL_NAME = \"all-MiniLM-L6-v2\"\n",
    "# Or batch process\n",
    "embeddings = model.encode(chunks, batch_size=16)\n",
    "```\n",
    "\n",
    "**Poor retrieval results:**\n",
    "```python\n",
    "# Try smaller chunks for precision\n",
    "CHUNK_SIZE = 300\n",
    "# Or larger chunks for context\n",
    "CHUNK_SIZE = 800\n",
    "# Adjust threshold\n",
    "SIMILARITY_THRESHOLD = 0.25  # Lower = more results\n",
    "```\n",
    "\n",
    "### Performance Tips\n",
    "\n",
    "1. **For large documents (>100k words)**:\n",
    "   - Use vector database instead of DataFrame\n",
    "   - Batch embedding generation\n",
    "   - Consider hierarchical chunking\n",
    "\n",
    "2. **For real-time applications**:\n",
    "   - Pre-compute all embeddings\n",
    "   - Use approximate nearest neighbor search (FAISS)\n",
    "   - Cache frequent queries\n",
    "\n",
    "3. **For best quality**:\n",
    "   - Use larger embedding models\n",
    "   - Implement reranking\n",
    "   - Fine-tune embeddings on your domain\n",
    "\n",
    "### Export Your Results\n",
    "\n",
    "```python\n",
    "# Save DataFrame with embeddings\n",
    "df.to_pickle('rag_dataframe.pkl')\n",
    "\n",
    "# Load later\n",
    "df = pd.read_pickle('rag_dataframe.pkl')\n",
    "\n",
    "# Export retrieved chunks\n",
    "results_to_use.to_csv('retrieved_chunks.csv', index=False)\n",
    "\n",
    "# Save full prompt\n",
    "with open('rag_prompt.txt', 'w') as f:\n",
    "    f.write(full_prompt)\n",
    "```"
   ]
  },
  {
   "cell_type": "code",
   "execution_count": null,
   "metadata": {},
   "outputs": [],
   "source": []
  }
 ],
 "metadata": {
  "kernelspec": {
   "display_name": "rag_msqe",
   "language": "python",
   "name": "rag_msqe"
  },
  "language_info": {
   "codemirror_mode": {
    "name": "ipython",
    "version": 3
   },
   "file_extension": ".py",
   "mimetype": "text/x-python",
   "name": "python",
   "nbconvert_exporter": "python",
   "pygments_lexer": "ipython3",
   "version": "3.11.11"
  }
 },
 "nbformat": 4,
 "nbformat_minor": 4
}
